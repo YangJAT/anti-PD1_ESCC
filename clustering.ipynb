{
 "cells": [
  {
   "cell_type": "code",
   "execution_count": 1,
   "id": "642567e3",
   "metadata": {},
   "outputs": [
    {
     "ename": "KeyboardInterrupt",
     "evalue": "",
     "output_type": "error",
     "traceback": [
      "\u001b[0;31m---------------------------------------------------------------------------\u001b[0m",
      "\u001b[0;31mKeyboardInterrupt\u001b[0m                         Traceback (most recent call last)",
      "\u001b[0;32m/var/tmp/pbs.331732.mgt/ipykernel_125101/2976110545.py\u001b[0m in \u001b[0;36m<module>\u001b[0;34m\u001b[0m\n\u001b[1;32m      2\u001b[0m \u001b[0;32mimport\u001b[0m \u001b[0mnumpy\u001b[0m \u001b[0;32mas\u001b[0m \u001b[0mnp\u001b[0m\u001b[0;34m\u001b[0m\u001b[0;34m\u001b[0m\u001b[0m\n\u001b[1;32m      3\u001b[0m \u001b[0;32mimport\u001b[0m \u001b[0mos\u001b[0m\u001b[0;34m\u001b[0m\u001b[0;34m\u001b[0m\u001b[0m\n\u001b[0;32m----> 4\u001b[0;31m \u001b[0;32mimport\u001b[0m \u001b[0mscanpy\u001b[0m \u001b[0;32mas\u001b[0m \u001b[0msc\u001b[0m\u001b[0;34m\u001b[0m\u001b[0;34m\u001b[0m\u001b[0m\n\u001b[0m\u001b[1;32m      5\u001b[0m \u001b[0;32mimport\u001b[0m \u001b[0mscvelo\u001b[0m \u001b[0;32mas\u001b[0m \u001b[0mscv\u001b[0m\u001b[0;34m\u001b[0m\u001b[0;34m\u001b[0m\u001b[0m\n\u001b[1;32m      6\u001b[0m \u001b[0;32mimport\u001b[0m \u001b[0mscirpy\u001b[0m \u001b[0;32mas\u001b[0m \u001b[0mir\u001b[0m\u001b[0;34m\u001b[0m\u001b[0;34m\u001b[0m\u001b[0m\n",
      "\u001b[0;32m~/.conda/envs/web_jupyter/lib/python3.8/site-packages/scanpy/__init__.py\u001b[0m in \u001b[0;36m<module>\u001b[0;34m\u001b[0m\n\u001b[1;32m     12\u001b[0m     \u001b[0;31m# (start with settings as several tools are using it)\u001b[0m\u001b[0;34m\u001b[0m\u001b[0;34m\u001b[0m\u001b[0;34m\u001b[0m\u001b[0m\n\u001b[1;32m     13\u001b[0m     \u001b[0;32mfrom\u001b[0m \u001b[0;34m.\u001b[0m\u001b[0m_settings\u001b[0m \u001b[0;32mimport\u001b[0m \u001b[0msettings\u001b[0m\u001b[0;34m,\u001b[0m \u001b[0mVerbosity\u001b[0m\u001b[0;34m\u001b[0m\u001b[0;34m\u001b[0m\u001b[0m\n\u001b[0;32m---> 14\u001b[0;31m     \u001b[0;32mfrom\u001b[0m \u001b[0;34m.\u001b[0m \u001b[0;32mimport\u001b[0m \u001b[0mtools\u001b[0m \u001b[0;32mas\u001b[0m \u001b[0mtl\u001b[0m\u001b[0;34m\u001b[0m\u001b[0;34m\u001b[0m\u001b[0m\n\u001b[0m\u001b[1;32m     15\u001b[0m     \u001b[0;32mfrom\u001b[0m \u001b[0;34m.\u001b[0m \u001b[0;32mimport\u001b[0m \u001b[0mpreprocessing\u001b[0m \u001b[0;32mas\u001b[0m \u001b[0mpp\u001b[0m\u001b[0;34m\u001b[0m\u001b[0;34m\u001b[0m\u001b[0m\n\u001b[1;32m     16\u001b[0m     \u001b[0;32mfrom\u001b[0m \u001b[0;34m.\u001b[0m \u001b[0;32mimport\u001b[0m \u001b[0mplotting\u001b[0m \u001b[0;32mas\u001b[0m \u001b[0mpl\u001b[0m\u001b[0;34m\u001b[0m\u001b[0;34m\u001b[0m\u001b[0m\n",
      "\u001b[0;32m~/.conda/envs/web_jupyter/lib/python3.8/site-packages/scanpy/tools/__init__.py\u001b[0m in \u001b[0;36m<module>\u001b[0;34m\u001b[0m\n\u001b[0;32m----> 1\u001b[0;31m \u001b[0;32mfrom\u001b[0m \u001b[0;34m.\u001b[0m\u001b[0;34m.\u001b[0m\u001b[0mpreprocessing\u001b[0m \u001b[0;32mimport\u001b[0m \u001b[0mpca\u001b[0m\u001b[0;34m\u001b[0m\u001b[0;34m\u001b[0m\u001b[0m\n\u001b[0m\u001b[1;32m      2\u001b[0m \u001b[0;32mfrom\u001b[0m \u001b[0;34m.\u001b[0m\u001b[0m_tsne\u001b[0m \u001b[0;32mimport\u001b[0m \u001b[0mtsne\u001b[0m\u001b[0;34m\u001b[0m\u001b[0;34m\u001b[0m\u001b[0m\n\u001b[1;32m      3\u001b[0m \u001b[0;32mfrom\u001b[0m \u001b[0;34m.\u001b[0m\u001b[0m_umap\u001b[0m \u001b[0;32mimport\u001b[0m \u001b[0mumap\u001b[0m\u001b[0;34m\u001b[0m\u001b[0;34m\u001b[0m\u001b[0m\n\u001b[1;32m      4\u001b[0m \u001b[0;32mfrom\u001b[0m \u001b[0;34m.\u001b[0m\u001b[0m_diffmap\u001b[0m \u001b[0;32mimport\u001b[0m \u001b[0mdiffmap\u001b[0m\u001b[0;34m\u001b[0m\u001b[0;34m\u001b[0m\u001b[0m\n\u001b[1;32m      5\u001b[0m \u001b[0;32mfrom\u001b[0m \u001b[0;34m.\u001b[0m\u001b[0m_draw_graph\u001b[0m \u001b[0;32mimport\u001b[0m \u001b[0mdraw_graph\u001b[0m\u001b[0;34m\u001b[0m\u001b[0;34m\u001b[0m\u001b[0m\n",
      "\u001b[0;32m~/.conda/envs/web_jupyter/lib/python3.8/site-packages/scanpy/preprocessing/__init__.py\u001b[0m in \u001b[0;36m<module>\u001b[0;34m\u001b[0m\n\u001b[0;32m----> 1\u001b[0;31m \u001b[0;32mfrom\u001b[0m \u001b[0;34m.\u001b[0m\u001b[0m_recipes\u001b[0m \u001b[0;32mimport\u001b[0m \u001b[0mrecipe_zheng17\u001b[0m\u001b[0;34m,\u001b[0m \u001b[0mrecipe_weinreb17\u001b[0m\u001b[0;34m,\u001b[0m \u001b[0mrecipe_seurat\u001b[0m\u001b[0;34m\u001b[0m\u001b[0;34m\u001b[0m\u001b[0m\n\u001b[0m\u001b[1;32m      2\u001b[0m \u001b[0;32mfrom\u001b[0m \u001b[0;34m.\u001b[0m\u001b[0m_simple\u001b[0m \u001b[0;32mimport\u001b[0m \u001b[0mfilter_cells\u001b[0m\u001b[0;34m,\u001b[0m \u001b[0mfilter_genes\u001b[0m\u001b[0;34m\u001b[0m\u001b[0;34m\u001b[0m\u001b[0m\n\u001b[1;32m      3\u001b[0m \u001b[0;32mfrom\u001b[0m \u001b[0;34m.\u001b[0m\u001b[0m_deprecated\u001b[0m\u001b[0;34m.\u001b[0m\u001b[0mhighly_variable_genes\u001b[0m \u001b[0;32mimport\u001b[0m \u001b[0mfilter_genes_dispersion\u001b[0m\u001b[0;34m\u001b[0m\u001b[0;34m\u001b[0m\u001b[0m\n\u001b[1;32m      4\u001b[0m \u001b[0;32mfrom\u001b[0m \u001b[0;34m.\u001b[0m\u001b[0m_highly_variable_genes\u001b[0m \u001b[0;32mimport\u001b[0m \u001b[0mhighly_variable_genes\u001b[0m\u001b[0;34m\u001b[0m\u001b[0;34m\u001b[0m\u001b[0m\n\u001b[1;32m      5\u001b[0m \u001b[0;32mfrom\u001b[0m \u001b[0;34m.\u001b[0m\u001b[0m_simple\u001b[0m \u001b[0;32mimport\u001b[0m \u001b[0mlog1p\u001b[0m\u001b[0;34m,\u001b[0m \u001b[0msqrt\u001b[0m\u001b[0;34m,\u001b[0m \u001b[0mscale\u001b[0m\u001b[0;34m,\u001b[0m \u001b[0msubsample\u001b[0m\u001b[0;34m\u001b[0m\u001b[0;34m\u001b[0m\u001b[0m\n",
      "\u001b[0;32m~/.conda/envs/web_jupyter/lib/python3.8/site-packages/scanpy/preprocessing/_recipes.py\u001b[0m in \u001b[0;36m<module>\u001b[0;34m\u001b[0m\n\u001b[1;32m     10\u001b[0m     \u001b[0mfilter_genes_cv_deprecated\u001b[0m\u001b[0;34m,\u001b[0m\u001b[0;34m\u001b[0m\u001b[0;34m\u001b[0m\u001b[0m\n\u001b[1;32m     11\u001b[0m )\n\u001b[0;32m---> 12\u001b[0;31m \u001b[0;32mfrom\u001b[0m \u001b[0;34m.\u001b[0m\u001b[0m_normalization\u001b[0m \u001b[0;32mimport\u001b[0m \u001b[0mnormalize_total\u001b[0m\u001b[0;34m\u001b[0m\u001b[0;34m\u001b[0m\u001b[0m\n\u001b[0m\u001b[1;32m     13\u001b[0m \u001b[0;32mfrom\u001b[0m \u001b[0;34m.\u001b[0m\u001b[0;34m.\u001b[0m \u001b[0;32mimport\u001b[0m \u001b[0mlogging\u001b[0m \u001b[0;32mas\u001b[0m \u001b[0mlogg\u001b[0m\u001b[0;34m\u001b[0m\u001b[0;34m\u001b[0m\u001b[0m\n\u001b[1;32m     14\u001b[0m \u001b[0;32mfrom\u001b[0m \u001b[0;34m.\u001b[0m\u001b[0;34m.\u001b[0m\u001b[0m_utils\u001b[0m \u001b[0;32mimport\u001b[0m \u001b[0mAnyRandom\u001b[0m\u001b[0;34m\u001b[0m\u001b[0;34m\u001b[0m\u001b[0m\n",
      "\u001b[0;32m~/.conda/envs/web_jupyter/lib/python3.8/site-packages/scanpy/preprocessing/_normalization.py\u001b[0m in \u001b[0;36m<module>\u001b[0;34m\u001b[0m\n\u001b[1;32m      5\u001b[0m \u001b[0;32mfrom\u001b[0m \u001b[0manndata\u001b[0m \u001b[0;32mimport\u001b[0m \u001b[0mAnnData\u001b[0m\u001b[0;34m\u001b[0m\u001b[0;34m\u001b[0m\u001b[0m\n\u001b[1;32m      6\u001b[0m \u001b[0;32mfrom\u001b[0m \u001b[0mscipy\u001b[0m\u001b[0;34m.\u001b[0m\u001b[0msparse\u001b[0m \u001b[0;32mimport\u001b[0m \u001b[0missparse\u001b[0m\u001b[0;34m\u001b[0m\u001b[0;34m\u001b[0m\u001b[0m\n\u001b[0;32m----> 7\u001b[0;31m \u001b[0;32mfrom\u001b[0m \u001b[0msklearn\u001b[0m\u001b[0;34m.\u001b[0m\u001b[0mutils\u001b[0m \u001b[0;32mimport\u001b[0m \u001b[0msparsefuncs\u001b[0m\u001b[0;34m\u001b[0m\u001b[0;34m\u001b[0m\u001b[0m\n\u001b[0m\u001b[1;32m      8\u001b[0m \u001b[0;34m\u001b[0m\u001b[0m\n\u001b[1;32m      9\u001b[0m \u001b[0;32mtry\u001b[0m\u001b[0;34m:\u001b[0m\u001b[0;34m\u001b[0m\u001b[0;34m\u001b[0m\u001b[0m\n",
      "\u001b[0;32m~/.conda/envs/web_jupyter/lib/python3.8/site-packages/sklearn/__init__.py\u001b[0m in \u001b[0;36m<module>\u001b[0;34m\u001b[0m\n\u001b[1;32m     72\u001b[0m \u001b[0;32melse\u001b[0m\u001b[0;34m:\u001b[0m\u001b[0;34m\u001b[0m\u001b[0;34m\u001b[0m\u001b[0m\n\u001b[1;32m     73\u001b[0m     \u001b[0;32mfrom\u001b[0m \u001b[0;34m.\u001b[0m \u001b[0;32mimport\u001b[0m \u001b[0m__check_build\u001b[0m\u001b[0;34m\u001b[0m\u001b[0;34m\u001b[0m\u001b[0m\n\u001b[0;32m---> 74\u001b[0;31m     \u001b[0;32mfrom\u001b[0m \u001b[0;34m.\u001b[0m\u001b[0mbase\u001b[0m \u001b[0;32mimport\u001b[0m \u001b[0mclone\u001b[0m\u001b[0;34m\u001b[0m\u001b[0;34m\u001b[0m\u001b[0m\n\u001b[0m\u001b[1;32m     75\u001b[0m     \u001b[0;32mfrom\u001b[0m \u001b[0;34m.\u001b[0m\u001b[0mutils\u001b[0m\u001b[0;34m.\u001b[0m\u001b[0m_show_versions\u001b[0m \u001b[0;32mimport\u001b[0m \u001b[0mshow_versions\u001b[0m\u001b[0;34m\u001b[0m\u001b[0;34m\u001b[0m\u001b[0m\n\u001b[1;32m     76\u001b[0m \u001b[0;34m\u001b[0m\u001b[0m\n",
      "\u001b[0;32m~/.conda/envs/web_jupyter/lib/python3.8/site-packages/sklearn/base.py\u001b[0m in \u001b[0;36m<module>\u001b[0;34m\u001b[0m\n\u001b[1;32m     18\u001b[0m \u001b[0;34m\u001b[0m\u001b[0m\n\u001b[1;32m     19\u001b[0m \u001b[0;32mfrom\u001b[0m \u001b[0;34m.\u001b[0m \u001b[0;32mimport\u001b[0m \u001b[0m__version__\u001b[0m\u001b[0;34m\u001b[0m\u001b[0;34m\u001b[0m\u001b[0m\n\u001b[0;32m---> 20\u001b[0;31m \u001b[0;32mfrom\u001b[0m \u001b[0;34m.\u001b[0m\u001b[0mutils\u001b[0m \u001b[0;32mimport\u001b[0m \u001b[0m_IS_32BIT\u001b[0m\u001b[0;34m\u001b[0m\u001b[0;34m\u001b[0m\u001b[0m\n\u001b[0m\u001b[1;32m     21\u001b[0m \u001b[0;34m\u001b[0m\u001b[0m\n\u001b[1;32m     22\u001b[0m _DEFAULT_TAGS = {\n",
      "\u001b[0;32m~/.conda/envs/web_jupyter/lib/python3.8/site-packages/sklearn/utils/__init__.py\u001b[0m in \u001b[0;36m<module>\u001b[0;34m\u001b[0m\n\u001b[1;32m     23\u001b[0m \u001b[0;32mfrom\u001b[0m \u001b[0;34m.\u001b[0m\u001b[0;34m.\u001b[0m\u001b[0mexceptions\u001b[0m \u001b[0;32mimport\u001b[0m \u001b[0mDataConversionWarning\u001b[0m\u001b[0;34m\u001b[0m\u001b[0;34m\u001b[0m\u001b[0m\n\u001b[1;32m     24\u001b[0m \u001b[0;32mfrom\u001b[0m \u001b[0;34m.\u001b[0m\u001b[0mdeprecation\u001b[0m \u001b[0;32mimport\u001b[0m \u001b[0mdeprecated\u001b[0m\u001b[0;34m\u001b[0m\u001b[0;34m\u001b[0m\u001b[0m\n\u001b[0;32m---> 25\u001b[0;31m \u001b[0;32mfrom\u001b[0m \u001b[0;34m.\u001b[0m\u001b[0mfixes\u001b[0m \u001b[0;32mimport\u001b[0m \u001b[0mnp_version\u001b[0m\u001b[0;34m\u001b[0m\u001b[0;34m\u001b[0m\u001b[0m\n\u001b[0m\u001b[1;32m     26\u001b[0m from .validation import (as_float_array,\n\u001b[1;32m     27\u001b[0m                          \u001b[0massert_all_finite\u001b[0m\u001b[0;34m,\u001b[0m\u001b[0;34m\u001b[0m\u001b[0;34m\u001b[0m\u001b[0m\n",
      "\u001b[0;32m~/.conda/envs/web_jupyter/lib/python3.8/site-packages/sklearn/utils/fixes.py\u001b[0m in \u001b[0;36m<module>\u001b[0;34m\u001b[0m\n\u001b[1;32m     16\u001b[0m \u001b[0;32mimport\u001b[0m \u001b[0mscipy\u001b[0m\u001b[0;34m.\u001b[0m\u001b[0msparse\u001b[0m \u001b[0;32mas\u001b[0m \u001b[0msp\u001b[0m\u001b[0;34m\u001b[0m\u001b[0;34m\u001b[0m\u001b[0m\n\u001b[1;32m     17\u001b[0m \u001b[0;32mimport\u001b[0m \u001b[0mscipy\u001b[0m\u001b[0;34m\u001b[0m\u001b[0;34m\u001b[0m\u001b[0m\n\u001b[0;32m---> 18\u001b[0;31m \u001b[0;32mimport\u001b[0m \u001b[0mscipy\u001b[0m\u001b[0;34m.\u001b[0m\u001b[0mstats\u001b[0m\u001b[0;34m\u001b[0m\u001b[0;34m\u001b[0m\u001b[0m\n\u001b[0m\u001b[1;32m     19\u001b[0m \u001b[0;32mfrom\u001b[0m \u001b[0mscipy\u001b[0m\u001b[0;34m.\u001b[0m\u001b[0msparse\u001b[0m\u001b[0;34m.\u001b[0m\u001b[0mlinalg\u001b[0m \u001b[0;32mimport\u001b[0m \u001b[0mlsqr\u001b[0m \u001b[0;32mas\u001b[0m \u001b[0msparse_lsqr\u001b[0m  \u001b[0;31m# noqa\u001b[0m\u001b[0;34m\u001b[0m\u001b[0;34m\u001b[0m\u001b[0m\n\u001b[1;32m     20\u001b[0m \u001b[0;34m\u001b[0m\u001b[0m\n",
      "\u001b[0;32m~/.conda/envs/web_jupyter/lib/python3.8/site-packages/scipy/stats/__init__.py\u001b[0m in \u001b[0;36m<module>\u001b[0;34m\u001b[0m\n\u001b[1;32m    439\u001b[0m \"\"\"\n\u001b[1;32m    440\u001b[0m \u001b[0;34m\u001b[0m\u001b[0m\n\u001b[0;32m--> 441\u001b[0;31m \u001b[0;32mfrom\u001b[0m \u001b[0;34m.\u001b[0m\u001b[0mstats\u001b[0m \u001b[0;32mimport\u001b[0m \u001b[0;34m*\u001b[0m\u001b[0;34m\u001b[0m\u001b[0;34m\u001b[0m\u001b[0m\n\u001b[0m\u001b[1;32m    442\u001b[0m \u001b[0;32mfrom\u001b[0m \u001b[0;34m.\u001b[0m\u001b[0mdistributions\u001b[0m \u001b[0;32mimport\u001b[0m \u001b[0;34m*\u001b[0m\u001b[0;34m\u001b[0m\u001b[0;34m\u001b[0m\u001b[0m\n\u001b[1;32m    443\u001b[0m \u001b[0;32mfrom\u001b[0m \u001b[0;34m.\u001b[0m\u001b[0mmorestats\u001b[0m \u001b[0;32mimport\u001b[0m \u001b[0;34m*\u001b[0m\u001b[0;34m\u001b[0m\u001b[0;34m\u001b[0m\u001b[0m\n",
      "\u001b[0;32m~/.conda/envs/web_jupyter/lib/python3.8/site-packages/scipy/stats/stats.py\u001b[0m in \u001b[0;36m<module>\u001b[0;34m\u001b[0m\n\u001b[1;32m     41\u001b[0m \u001b[0;32mimport\u001b[0m \u001b[0mscipy\u001b[0m\u001b[0;34m.\u001b[0m\u001b[0mspecial\u001b[0m \u001b[0;32mas\u001b[0m \u001b[0mspecial\u001b[0m\u001b[0;34m\u001b[0m\u001b[0;34m\u001b[0m\u001b[0m\n\u001b[1;32m     42\u001b[0m \u001b[0;32mfrom\u001b[0m \u001b[0mscipy\u001b[0m \u001b[0;32mimport\u001b[0m \u001b[0mlinalg\u001b[0m\u001b[0;34m\u001b[0m\u001b[0;34m\u001b[0m\u001b[0m\n\u001b[0;32m---> 43\u001b[0;31m \u001b[0;32mfrom\u001b[0m \u001b[0;34m.\u001b[0m \u001b[0;32mimport\u001b[0m \u001b[0mdistributions\u001b[0m\u001b[0;34m\u001b[0m\u001b[0;34m\u001b[0m\u001b[0m\n\u001b[0m\u001b[1;32m     44\u001b[0m \u001b[0;32mfrom\u001b[0m \u001b[0;34m.\u001b[0m \u001b[0;32mimport\u001b[0m \u001b[0mmstats_basic\u001b[0m\u001b[0;34m\u001b[0m\u001b[0;34m\u001b[0m\u001b[0m\n\u001b[1;32m     45\u001b[0m from ._stats_mstats_common import (_find_repeats, linregress, theilslopes,\n",
      "\u001b[0;32m~/.conda/envs/web_jupyter/lib/python3.8/site-packages/scipy/stats/distributions.py\u001b[0m in \u001b[0;36m<module>\u001b[0;34m\u001b[0m\n\u001b[1;32m      6\u001b[0m \u001b[0;31m#       instead of `git blame -Lxxx,+x`.\u001b[0m\u001b[0;34m\u001b[0m\u001b[0;34m\u001b[0m\u001b[0;34m\u001b[0m\u001b[0m\n\u001b[1;32m      7\u001b[0m \u001b[0;31m#\u001b[0m\u001b[0;34m\u001b[0m\u001b[0;34m\u001b[0m\u001b[0;34m\u001b[0m\u001b[0m\n\u001b[0;32m----> 8\u001b[0;31m \u001b[0;32mfrom\u001b[0m \u001b[0;34m.\u001b[0m\u001b[0m_distn_infrastructure\u001b[0m \u001b[0;32mimport\u001b[0m \u001b[0;34m(\u001b[0m\u001b[0mrv_discrete\u001b[0m\u001b[0;34m,\u001b[0m \u001b[0mrv_continuous\u001b[0m\u001b[0;34m,\u001b[0m \u001b[0mrv_frozen\u001b[0m\u001b[0;34m)\u001b[0m\u001b[0;34m\u001b[0m\u001b[0;34m\u001b[0m\u001b[0m\n\u001b[0m\u001b[1;32m      9\u001b[0m \u001b[0;34m\u001b[0m\u001b[0m\n\u001b[1;32m     10\u001b[0m \u001b[0;32mfrom\u001b[0m \u001b[0;34m.\u001b[0m \u001b[0;32mimport\u001b[0m \u001b[0m_continuous_distns\u001b[0m\u001b[0;34m\u001b[0m\u001b[0;34m\u001b[0m\u001b[0m\n",
      "\u001b[0;32m~/.conda/envs/web_jupyter/lib/python3.8/site-packages/scipy/stats/_distn_infrastructure.py\u001b[0m in \u001b[0;36m<module>\u001b[0;34m\u001b[0m\n\u001b[1;32m     22\u001b[0m \u001b[0;31m# for root finding for continuous distribution ppf, and max likelihood\u001b[0m\u001b[0;34m\u001b[0m\u001b[0;34m\u001b[0m\u001b[0;34m\u001b[0m\u001b[0m\n\u001b[1;32m     23\u001b[0m \u001b[0;31m# estimation\u001b[0m\u001b[0;34m\u001b[0m\u001b[0;34m\u001b[0m\u001b[0;34m\u001b[0m\u001b[0m\n\u001b[0;32m---> 24\u001b[0;31m \u001b[0;32mfrom\u001b[0m \u001b[0mscipy\u001b[0m \u001b[0;32mimport\u001b[0m \u001b[0moptimize\u001b[0m\u001b[0;34m\u001b[0m\u001b[0;34m\u001b[0m\u001b[0m\n\u001b[0m\u001b[1;32m     25\u001b[0m \u001b[0;34m\u001b[0m\u001b[0m\n\u001b[1;32m     26\u001b[0m \u001b[0;31m# for functions of continuous distributions (e.g. moments, entropy, cdf)\u001b[0m\u001b[0;34m\u001b[0m\u001b[0;34m\u001b[0m\u001b[0;34m\u001b[0m\u001b[0m\n",
      "\u001b[0;32m~/.conda/envs/web_jupyter/lib/python3.8/site-packages/scipy/optimize/__init__.py\u001b[0m in \u001b[0;36m<module>\u001b[0;34m\u001b[0m\n\u001b[1;32m    400\u001b[0m \u001b[0;32mfrom\u001b[0m \u001b[0;34m.\u001b[0m\u001b[0moptimize\u001b[0m \u001b[0;32mimport\u001b[0m \u001b[0;34m*\u001b[0m\u001b[0;34m\u001b[0m\u001b[0;34m\u001b[0m\u001b[0m\n\u001b[1;32m    401\u001b[0m \u001b[0;32mfrom\u001b[0m \u001b[0;34m.\u001b[0m\u001b[0m_minimize\u001b[0m \u001b[0;32mimport\u001b[0m \u001b[0;34m*\u001b[0m\u001b[0;34m\u001b[0m\u001b[0;34m\u001b[0m\u001b[0m\n\u001b[0;32m--> 402\u001b[0;31m \u001b[0;32mfrom\u001b[0m \u001b[0;34m.\u001b[0m\u001b[0m_root\u001b[0m \u001b[0;32mimport\u001b[0m \u001b[0;34m*\u001b[0m\u001b[0;34m\u001b[0m\u001b[0;34m\u001b[0m\u001b[0m\n\u001b[0m\u001b[1;32m    403\u001b[0m \u001b[0;32mfrom\u001b[0m \u001b[0;34m.\u001b[0m\u001b[0m_root_scalar\u001b[0m \u001b[0;32mimport\u001b[0m \u001b[0;34m*\u001b[0m\u001b[0;34m\u001b[0m\u001b[0;34m\u001b[0m\u001b[0m\n\u001b[1;32m    404\u001b[0m \u001b[0;32mfrom\u001b[0m \u001b[0;34m.\u001b[0m\u001b[0mminpack\u001b[0m \u001b[0;32mimport\u001b[0m \u001b[0;34m*\u001b[0m\u001b[0;34m\u001b[0m\u001b[0;34m\u001b[0m\u001b[0m\n",
      "\u001b[0;32m~/.conda/envs/web_jupyter/lib/python3.8/site-packages/scipy/optimize/_root.py\u001b[0m in \u001b[0;36m<module>\u001b[0;34m\u001b[0m\n\u001b[1;32m     17\u001b[0m \u001b[0;34m\u001b[0m\u001b[0m\n\u001b[1;32m     18\u001b[0m \u001b[0;32mfrom\u001b[0m \u001b[0;34m.\u001b[0m\u001b[0moptimize\u001b[0m \u001b[0;32mimport\u001b[0m \u001b[0mMemoizeJac\u001b[0m\u001b[0;34m,\u001b[0m \u001b[0mOptimizeResult\u001b[0m\u001b[0;34m,\u001b[0m \u001b[0m_check_unknown_options\u001b[0m\u001b[0;34m\u001b[0m\u001b[0;34m\u001b[0m\u001b[0m\n\u001b[0;32m---> 19\u001b[0;31m \u001b[0;32mfrom\u001b[0m \u001b[0;34m.\u001b[0m\u001b[0mminpack\u001b[0m \u001b[0;32mimport\u001b[0m \u001b[0m_root_hybr\u001b[0m\u001b[0;34m,\u001b[0m \u001b[0mleastsq\u001b[0m\u001b[0;34m\u001b[0m\u001b[0;34m\u001b[0m\u001b[0m\n\u001b[0m\u001b[1;32m     20\u001b[0m \u001b[0;32mfrom\u001b[0m \u001b[0;34m.\u001b[0m\u001b[0m_spectral\u001b[0m \u001b[0;32mimport\u001b[0m \u001b[0m_root_df_sane\u001b[0m\u001b[0;34m\u001b[0m\u001b[0;34m\u001b[0m\u001b[0m\n\u001b[1;32m     21\u001b[0m \u001b[0;32mfrom\u001b[0m \u001b[0;34m.\u001b[0m \u001b[0;32mimport\u001b[0m \u001b[0mnonlin\u001b[0m\u001b[0;34m\u001b[0m\u001b[0;34m\u001b[0m\u001b[0m\n",
      "\u001b[0;32m~/.conda/envs/web_jupyter/lib/python3.8/site-packages/scipy/optimize/minpack.py\u001b[0m in \u001b[0;36m<module>\u001b[0;34m\u001b[0m\n\u001b[1;32m     11\u001b[0m \u001b[0;32mfrom\u001b[0m \u001b[0mscipy\u001b[0m\u001b[0;34m.\u001b[0m\u001b[0m_lib\u001b[0m\u001b[0;34m.\u001b[0m\u001b[0m_util\u001b[0m \u001b[0;32mimport\u001b[0m \u001b[0mgetfullargspec_no_self\u001b[0m \u001b[0;32mas\u001b[0m \u001b[0m_getfullargspec\u001b[0m\u001b[0;34m\u001b[0m\u001b[0;34m\u001b[0m\u001b[0m\n\u001b[1;32m     12\u001b[0m \u001b[0;32mfrom\u001b[0m \u001b[0;34m.\u001b[0m\u001b[0moptimize\u001b[0m \u001b[0;32mimport\u001b[0m \u001b[0mOptimizeResult\u001b[0m\u001b[0;34m,\u001b[0m \u001b[0m_check_unknown_options\u001b[0m\u001b[0;34m,\u001b[0m \u001b[0mOptimizeWarning\u001b[0m\u001b[0;34m\u001b[0m\u001b[0;34m\u001b[0m\u001b[0m\n\u001b[0;32m---> 13\u001b[0;31m \u001b[0;32mfrom\u001b[0m \u001b[0;34m.\u001b[0m\u001b[0m_lsq\u001b[0m \u001b[0;32mimport\u001b[0m \u001b[0mleast_squares\u001b[0m\u001b[0;34m\u001b[0m\u001b[0;34m\u001b[0m\u001b[0m\n\u001b[0m\u001b[1;32m     14\u001b[0m \u001b[0;31m# from ._lsq.common import make_strictly_feasible\u001b[0m\u001b[0;34m\u001b[0m\u001b[0;34m\u001b[0m\u001b[0;34m\u001b[0m\u001b[0m\n\u001b[1;32m     15\u001b[0m \u001b[0;32mfrom\u001b[0m \u001b[0;34m.\u001b[0m\u001b[0m_lsq\u001b[0m\u001b[0;34m.\u001b[0m\u001b[0mleast_squares\u001b[0m \u001b[0;32mimport\u001b[0m \u001b[0mprepare_bounds\u001b[0m\u001b[0;34m\u001b[0m\u001b[0;34m\u001b[0m\u001b[0m\n",
      "\u001b[0;32m~/.conda/envs/web_jupyter/lib/python3.8/site-packages/scipy/optimize/_lsq/__init__.py\u001b[0m in \u001b[0;36m<module>\u001b[0;34m\u001b[0m\n\u001b[1;32m      1\u001b[0m \u001b[0;34m\"\"\"This module contains least-squares algorithms.\"\"\"\u001b[0m\u001b[0;34m\u001b[0m\u001b[0;34m\u001b[0m\u001b[0m\n\u001b[1;32m      2\u001b[0m \u001b[0;32mfrom\u001b[0m \u001b[0;34m.\u001b[0m\u001b[0mleast_squares\u001b[0m \u001b[0;32mimport\u001b[0m \u001b[0mleast_squares\u001b[0m\u001b[0;34m\u001b[0m\u001b[0;34m\u001b[0m\u001b[0m\n\u001b[0;32m----> 3\u001b[0;31m \u001b[0;32mfrom\u001b[0m \u001b[0;34m.\u001b[0m\u001b[0mlsq_linear\u001b[0m \u001b[0;32mimport\u001b[0m \u001b[0mlsq_linear\u001b[0m\u001b[0;34m\u001b[0m\u001b[0;34m\u001b[0m\u001b[0m\n\u001b[0m\u001b[1;32m      4\u001b[0m \u001b[0;34m\u001b[0m\u001b[0m\n\u001b[1;32m      5\u001b[0m \u001b[0m__all__\u001b[0m \u001b[0;34m=\u001b[0m \u001b[0;34m[\u001b[0m\u001b[0;34m'least_squares'\u001b[0m\u001b[0;34m,\u001b[0m \u001b[0;34m'lsq_linear'\u001b[0m\u001b[0;34m]\u001b[0m\u001b[0;34m\u001b[0m\u001b[0;34m\u001b[0m\u001b[0m\n",
      "\u001b[0;32m~/.conda/envs/web_jupyter/lib/python3.8/importlib/_bootstrap.py\u001b[0m in \u001b[0;36m_find_and_load\u001b[0;34m(name, import_)\u001b[0m\n",
      "\u001b[0;32m~/.conda/envs/web_jupyter/lib/python3.8/importlib/_bootstrap.py\u001b[0m in \u001b[0;36m_find_and_load_unlocked\u001b[0;34m(name, import_)\u001b[0m\n",
      "\u001b[0;32m~/.conda/envs/web_jupyter/lib/python3.8/importlib/_bootstrap.py\u001b[0m in \u001b[0;36m_load_unlocked\u001b[0;34m(spec)\u001b[0m\n",
      "\u001b[0;32m~/.conda/envs/web_jupyter/lib/python3.8/importlib/_bootstrap_external.py\u001b[0m in \u001b[0;36mexec_module\u001b[0;34m(self, module)\u001b[0m\n",
      "\u001b[0;32m~/.conda/envs/web_jupyter/lib/python3.8/importlib/_bootstrap_external.py\u001b[0m in \u001b[0;36mget_code\u001b[0;34m(self, fullname)\u001b[0m\n",
      "\u001b[0;32m~/.conda/envs/web_jupyter/lib/python3.8/importlib/_bootstrap_external.py\u001b[0m in \u001b[0;36mget_data\u001b[0;34m(self, path)\u001b[0m\n",
      "\u001b[0;31mKeyboardInterrupt\u001b[0m: "
     ]
    }
   ],
   "source": [
    "import sys\n",
    "print(sys.version)\n",
    "\n",
    "import pandas as pd\n",
    "import numpy as np\n",
    "import os\n",
    "import scanpy as sc\n",
    "import scvelo as scv\n",
    "import scirpy as ir\n",
    "import matplotlib.pyplot as plt\n",
    "from matplotlib import rcParams\n",
    "import scanpy.external as sce\n",
    "import seaborn as sns\n",
    "import matplotlib.ticker as mtick\n",
    "\n",
    "plt.rcParams['font.sans-serif']=['Arial']\n",
    "sc.settings.verbosity = 3  \n",
    "sc.settings.set_figure_params(dpi=120,fontsize=8, frameon=False, figsize=(3, 3), facecolor='white')\n"
   ]
  },
  {
   "cell_type": "code",
   "execution_count": null,
   "id": "70601354",
   "metadata": {},
   "outputs": [],
   "source": [
    "def preprocessing(adata, filter_cells, barc = '-1'):\n",
    "    sc.pp.filter_genes(adata, min_cells=0.001*len(adata.obs))\n",
    "    adata.var['mt'] = adata.var_names.str.startswith('MT-')\n",
    "    adata.var['rb'] = adata.var_names.str.contains('^RP[SL]')\n",
    "    adata.var['hb'] = adata.var_names.str.contains('^HB[APS]')\n",
    "    adata.var['hsp'] = adata.var_names.str.contains('^HSP')\n",
    "    sc.pp.calculate_qc_metrics(adata, qc_vars=['mt','rb','hb','hsp'], percent_top=None, log1p=False, inplace=True)\n",
    "    adata = adata[adata.obs.n_genes_by_counts < 8000, :]\n",
    "    adata = adata[adata.obs.n_genes_by_counts > 400, :]\n",
    "    adata = adata[adata.obs.total_counts > 500, :]\n",
    "    adata = adata[adata.obs.total_counts < 50000, :]\n",
    "    adata = adata[adata.obs.pct_counts_mt < 10, :]\n",
    "    adata = adata[adata.obs.pct_counts_hb < 5, :]\n",
    "    pre_cell = len(adata.obs_names)\n",
    "    cell_names = adata.obs_names.str.replace('-1',barc)\n",
    "    adata = adata[~cell_names.isin(filter_cells)]\n",
    "    after_cell = len(adata.obs_names)\n",
    "    print(\"{0} cells filtered by double and mix\".format(pre_cell-after_cell) )\n",
    "    return adata\n",
    "\n",
    "def normalization(adata, n_top = 5000):\n",
    "    sc.pp.normalize_total(adata, target_sum=1e4)\n",
    "    sc.pp.log1p(adata)\n",
    "    sc.pp.highly_variable_genes(adata, flavor='cell_ranger', n_top_genes=n_top)\n",
    "    #adata = adata[:, adata.var.highly_variable]\n",
    "    sc.pp.regress_out(adata, ['total_counts', 'n_genes_by_counts', \n",
    "                              'pct_counts_mt', 'pct_counts_hsp'])\n",
    "    sc.tl.pca(adata, svd_solver='arpack')\n",
    "    return adata\n",
    "\n",
    "def dimensionalReduc(adata):\n",
    "    sc.pp.neighbors(adata, n_neighbors=10, n_pcs=40)\n",
    "    tl.paga(adata)\n",
    "    pl.paga(adata, plot=False)  # remove `plot=False` if you want to see the coarse-grained graph\n",
    "    tl.umap(adata, init_pos='paga')\n",
    "    return adata"
   ]
  },
  {
   "cell_type": "markdown",
   "id": "340cdf31",
   "metadata": {},
   "source": [
    "## All cells"
   ]
  },
  {
   "cell_type": "code",
   "execution_count": null,
   "id": "c5c72452",
   "metadata": {},
   "outputs": [],
   "source": [
    "A_pre_ori = sc.read_10x_mtx('/share2/pub/zhangyr/zhangyr/cooperation/SJTU/ESCC/cellranger_v6/A_1_0/outs/filtered_feature_bc_matrix/',cache=True)\n",
    "A_post_ori = sc.read_10x_mtx('/share2/pub/zhangyr/zhangyr/cooperation/SJTU/ESCC/cellranger_v6/A_1_1/outs/filtered_feature_bc_matrix/',cache=True)\n",
    "B_pre_ori = sc.read_10x_mtx('/share2/pub/zhangyr/zhangyr/cooperation/SJTU/ESCC/cellranger_v6/B_1_0/outs/filtered_feature_bc_matrix/',cache=True)\n",
    "B_post_ori = sc.read_10x_mtx('/share2/pub/zhangyr/zhangyr/cooperation/SJTU/ESCC/cellranger_v6/B_1_1/outs/filtered_feature_bc_matrix/',cache=True)\n",
    "C_pre_ori = sc.read_10x_mtx('/share2/pub/zhangyr/zhangyr/cooperation/SJTU/ESCC/cellranger_v6/C_1_0/outs/filtered_feature_bc_matrix/',cache=True)\n",
    "C_post_ori = sc.read_10x_mtx('/share2/pub/zhangyr/zhangyr/cooperation/SJTU/ESCC/cellranger_v6/C_1_1/outs/filtered_feature_bc_matrix/',cache=True)\n",
    "D_pre_ori = sc.read_10x_mtx('/share2/pub/zhangyr/zhangyr/cooperation/SJTU/ESCC/cellranger_v6/D_1_0/outs/filtered_feature_bc_matrix/',cache=True)\n",
    "D_post_ori = sc.read_10x_mtx('/share2/pub/zhangyr/zhangyr/cooperation/SJTU/ESCC/cellranger_v6/D_1_1/outs/filtered_feature_bc_matrix/',cache=True)\n",
    "I_pre_ori = sc.read_10x_mtx('/share2/pub/zhangyr/zhangyr/cooperation/SJTU/ESCC/cellranger_v6/I_1_0/outs/filtered_feature_bc_matrix/',cache=True)\n",
    "I_post_ori = sc.read_10x_mtx('/share2/pub/zhangyr/zhangyr/cooperation/SJTU/ESCC/cellranger_v6/I_1_1/outs/filtered_feature_bc_matrix/',cache=True)\n",
    "R_pre_ori = sc.read_10x_mtx('/share2/pub/zhangyr/zhangyr/cooperation/SJTU/ESCC/cellranger_v6/R_1_0/outs/filtered_feature_bc_matrix/',cache=True)\n",
    "R_post_ori = sc.read_10x_mtx('/share2/pub/zhangyr/zhangyr/cooperation/SJTU/ESCC/cellranger_v6/R_1_1/outs/filtered_feature_bc_matrix/',cache=True)\n",
    "N_pre_ori = sc.read_10x_mtx('/share2/pub/zhangyr/zhangyr/cooperation/SJTU/ESCC/cellranger_v6/N_1_0/outs/filtered_feature_bc_matrix/',cache=True)\n",
    "N_post_ori = sc.read_10x_mtx('/share2/pub/zhangyr/zhangyr/cooperation/SJTU/ESCC/cellranger_v6/N_1_1/outs/filtered_feature_bc_matrix/',cache=True)"
   ]
  },
  {
   "cell_type": "code",
   "execution_count": null,
   "id": "225c8494",
   "metadata": {},
   "outputs": [],
   "source": [
    "A_pre = preprocessing(A_pre_ori,list(doublet.iloc[:,0])+list(mix['Barcode']), '-1')\n",
    "A_post = preprocessing(A_post_ori,list(doublet.iloc[:,0])+list(mix['Barcode']), '-2')\n",
    "B_pre = preprocessing(B_pre_ori,list(doublet.iloc[:,0])+list(mix['Barcode']), '-3')\n",
    "B_post = preprocessing(B_post_ori,list(doublet.iloc[:,0])+list(mix['Barcode']), '-4')\n",
    "C_pre = preprocessing(C_pre_ori,list(doublet.iloc[:,0])+list(mix['Barcode']), '-5')\n",
    "C_post = preprocessing(C_post_ori,list(doublet.iloc[:,0])+list(mix['Barcode']), '-6')\n",
    "D_pre = preprocessing(D_pre_ori,list(doublet.iloc[:,0])+list(mix['Barcode']), '-7')\n",
    "D_post = preprocessing(D_post_ori,list(doublet.iloc[:,0])+list(mix['Barcode']), '-8')\n",
    "I_pre = preprocessing(I_pre_ori,list(doublet.iloc[:,0])+list(mix['Barcode']), '-9')\n",
    "I_post = preprocessing(I_post_ori,list(doublet.iloc[:,0])+list(mix['Barcode']), '-10')\n",
    "R_pre = preprocessing(R_pre_ori,list(doublet.iloc[:,0])+list(mix['Barcode']), '-11')\n",
    "R_post = preprocessing(R_post_ori,list(doublet.iloc[:,0])+list(mix['Barcode']), '-12')\n",
    "N_pre = preprocessing(N_pre_ori,list(doublet.iloc[:,0])+list(mix['Barcode']), '-13')\n",
    "N_post = preprocessing(N_post_ori,list(doublet.iloc[:,0])+list(mix['Barcode']), '-14')"
   ]
  },
  {
   "cell_type": "code",
   "execution_count": null,
   "id": "2ac6586c",
   "metadata": {},
   "outputs": [],
   "source": [
    "A_con = A_pre.concatenate(A_post, batch_categories=['Pre', 'Post'],batch_key = 'treat')\n",
    "B_con = B_pre.concatenate(B_post, batch_categories=['Pre', 'Post'],batch_key = 'treat')\n",
    "C_con = C_pre.concatenate(C_post, batch_categories=['Pre', 'Post'],batch_key = 'treat')\n",
    "D_con = D_pre.concatenate(D_post, batch_categories=['Pre', 'Post'],batch_key = 'treat')\n",
    "I_con = I_pre.concatenate(I_post, batch_categories=['Pre', 'Post'],batch_key = 'treat')\n",
    "R_con = R_pre.concatenate(R_post, batch_categories=['Pre', 'Post'],batch_key = 'treat')\n",
    "N_con = N_pre.concatenate(N_post, batch_categories=['Pre', 'Post'],batch_key = 'treat')"
   ]
  },
  {
   "cell_type": "code",
   "execution_count": null,
   "id": "b2d04b61",
   "metadata": {},
   "outputs": [],
   "source": [
    "adata_con = A_con.concatenate([B_con,C_con, D_con, I_con, R_con, N_con], \n",
    "                              batch_categories=['A', 'B','C','D','I','R','N'],\n",
    "                              batch_key = 'patient')\n",
    "adata_con.obs['treat_patient'] = adata_con.obs['treat'].str.cat(adata_con.obs['patient'],sep='_')"
   ]
  },
  {
   "cell_type": "code",
   "execution_count": null,
   "id": "d94567d3",
   "metadata": {},
   "outputs": [],
   "source": [
    "sc.external.pp.bbknn(adata_con, batch_key='treat_patient',neighbors_within_batch=3, trim=100)\n",
    "sc.tl.umap(adata_con)\n",
    "sc.tl.leiden(adata_con,resolution=0.3)\n",
    "sc.pl.umap(adata_con, color=['patient', 'treat', 'leiden'])"
   ]
  },
  {
   "cell_type": "code",
   "execution_count": null,
   "id": "b50fde00",
   "metadata": {},
   "outputs": [],
   "source": [
    "immu_markers = [\"CD3D\",\"CD2\",\"CD3E\",\"CD3G\",   ## T cell\n",
    "                \"CD79A\",'MS4A1',\"CD79B\",\"JCHAIN\",  ## B cell\n",
    "                \"DCN\",\"COL1A1\",\"COL1A2\",\"FN1\",  ## fibroblast\n",
    "                \"CCL14\",\"VWF\",\"PECAM1\",\"ENG\",    ## endothelial cell\n",
    "                \"RGS5\",\"MCAM\",\"ACTA2\",\"MYH11\",    ## pericyte\n",
    "                \"LYZ\",\"CD14\",\"GCA\",\"HPGDS\",  ## myeloid cell\n",
    "                'KRT5','SFN','KRT14','EPCAM'  ## epithelial cell\n",
    "               ]  \n",
    "sc.pl.umap(adata_con, color=immu_markers)"
   ]
  },
  {
   "cell_type": "markdown",
   "id": "df3720fa",
   "metadata": {},
   "source": [
    "## T cells"
   ]
  },
  {
   "cell_type": "code",
   "execution_count": null,
   "id": "b9a6a264",
   "metadata": {},
   "outputs": [],
   "source": []
  },
  {
   "cell_type": "markdown",
   "id": "51566a11",
   "metadata": {},
   "source": [
    "## B cells"
   ]
  },
  {
   "cell_type": "code",
   "execution_count": null,
   "id": "ab406e92",
   "metadata": {},
   "outputs": [],
   "source": []
  },
  {
   "cell_type": "markdown",
   "id": "b4e8cf8e",
   "metadata": {},
   "source": [
    "## Myeloid cells"
   ]
  },
  {
   "cell_type": "code",
   "execution_count": null,
   "id": "9c80ac1f",
   "metadata": {},
   "outputs": [],
   "source": []
  }
 ],
 "metadata": {
  "kernelspec": {
   "display_name": "Python 3 (ipykernel)",
   "language": "python",
   "name": "python3"
  },
  "language_info": {
   "codemirror_mode": {
    "name": "ipython",
    "version": 3
   },
   "file_extension": ".py",
   "mimetype": "text/x-python",
   "name": "python",
   "nbconvert_exporter": "python",
   "pygments_lexer": "ipython3",
   "version": "3.8.8"
  }
 },
 "nbformat": 4,
 "nbformat_minor": 5
}
