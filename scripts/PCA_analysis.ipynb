{
 "cells": [
  {
   "cell_type": "code",
   "execution_count": 1,
   "id": "85da5514",
   "metadata": {},
   "outputs": [],
   "source": [
    "import pandas as pd\n",
    "import numpy as np\n",
    "import os\n",
    "import seaborn as sns\n",
    "import matplotlib.pyplot as plt\n",
    "from skbio.stats.composition import clr\n",
    "GSE160269_CD45POS_PATH = 'project_path/GSE160269_CD45pos_cells.txt'\n",
    "GSE160269_CD45NEG_PATH = 'project_path/GSE160269_CD45neg_cells.txt'\n",
    "ANTIPD1_PROPORTION_PATH = './results/step1_firstClustering/proportion/proportion_sample.csv'"
   ]
  },
  {
   "cell_type": "code",
   "execution_count": 2,
   "id": "59d5d963",
   "metadata": {},
   "outputs": [],
   "source": [
    "cd45_pos = pd.read_csv(GSE160269_CD45POS_PATH,sep=' ')\n",
    "cd45_pos = cd45_pos.loc[cd45_pos['sample'].isin(['P126N','P127N','P128N','P130N','P126T','P127T','P128T','P130T'])]"
   ]
  },
  {
   "cell_type": "code",
   "execution_count": 3,
   "id": "e95ea5fe",
   "metadata": {},
   "outputs": [],
   "source": [
    "group = np.array(['Normal']* cd45_pos.shape[0])\n",
    "group[cd45_pos['sample'].isin(['P126N','P127N','P128N','P130N'])] = 'Tumor'\n",
    "cd45_pos['group'] = group"
   ]
  },
  {
   "cell_type": "code",
   "execution_count": 4,
   "id": "8f79d8f2",
   "metadata": {},
   "outputs": [],
   "source": [
    "cd45_neg = pd.read_csv(GSE160269_CD45NEG_PATH,sep=' ')\n",
    "cd45_neg = cd45_neg.loc[cd45_neg['sample'].isin(['P126N','P127N','P128N','P130N','P126T','P127T','P128T','P130T'])]"
   ]
  },
  {
   "cell_type": "code",
   "execution_count": 5,
   "id": "f2da5106",
   "metadata": {},
   "outputs": [],
   "source": [
    "group = np.array(['Normal']* cd45_neg.shape[0])\n",
    "group[cd45_neg['sample'].isin(['P126N','P127N','P128N','P130N'])] = 'Tumor'\n",
    "cd45_neg['group'] = group"
   ]
  },
  {
   "cell_type": "code",
   "execution_count": 6,
   "id": "0af05d67",
   "metadata": {},
   "outputs": [
    {
     "data": {
      "text/plain": [
       "27271"
      ]
     },
     "execution_count": 6,
     "metadata": {},
     "output_type": "execute_result"
    }
   ],
   "source": [
    "all_cells_n = cd45_pos.shape[0]+cd45_neg.shape[0]\n",
    "all_cells_n"
   ]
  },
  {
   "cell_type": "code",
   "execution_count": 7,
   "id": "7da1ca1f",
   "metadata": {},
   "outputs": [
    {
     "name": "stdout",
     "output_type": "stream",
     "text": [
      "(27271, 4)\n"
     ]
    }
   ],
   "source": [
    "all_cells = pd.concat([cd45_pos,cd45_neg])\n",
    "print(all_cells.shape)\n",
    "pos_propotion = all_cells.groupby(['sample','annotated_type'])['cell'].count()\n",
    "pos_propotion = pos_propotion/pos_propotion.groupby(level=0).sum()\n",
    "pos_propotion = pos_propotion.unstack()\n",
    "pos_propotion['Fibroblast'] = pos_propotion['Fibroblast']+ pos_propotion['FRC']\n",
    "pos_propotion = pos_propotion.iloc[:,~(pos_propotion.columns == 'FRC')]\n",
    "cells = ['Tcell','Bcell','Myeloid','Endothelial','Fibroblast','Pericytes','Epithelial']\n",
    "pos_propotion = pos_propotion[cells]"
   ]
  },
  {
   "cell_type": "code",
   "execution_count": 8,
   "id": "9bd81b11",
   "metadata": {},
   "outputs": [],
   "source": [
    "pos_propotion = pd.DataFrame(clr(pos_propotion),index = pos_propotion.index, columns = pos_propotion.columns)"
   ]
  },
  {
   "cell_type": "code",
   "execution_count": 9,
   "id": "6c70fb2d",
   "metadata": {},
   "outputs": [
    {
     "data": {
      "text/html": [
       "<div>\n",
       "<style scoped>\n",
       "    .dataframe tbody tr th:only-of-type {\n",
       "        vertical-align: middle;\n",
       "    }\n",
       "\n",
       "    .dataframe tbody tr th {\n",
       "        vertical-align: top;\n",
       "    }\n",
       "\n",
       "    .dataframe thead th {\n",
       "        text-align: right;\n",
       "    }\n",
       "</style>\n",
       "<table border=\"1\" class=\"dataframe\">\n",
       "  <thead>\n",
       "    <tr style=\"text-align: right;\">\n",
       "      <th>annotated_type</th>\n",
       "      <th>Tcell</th>\n",
       "      <th>Bcell</th>\n",
       "      <th>Myeloid</th>\n",
       "      <th>Endothelial</th>\n",
       "      <th>Fibroblast</th>\n",
       "      <th>Pericytes</th>\n",
       "      <th>Epithelial</th>\n",
       "    </tr>\n",
       "    <tr>\n",
       "      <th>sample</th>\n",
       "      <th></th>\n",
       "      <th></th>\n",
       "      <th></th>\n",
       "      <th></th>\n",
       "      <th></th>\n",
       "      <th></th>\n",
       "      <th></th>\n",
       "    </tr>\n",
       "  </thead>\n",
       "  <tbody>\n",
       "    <tr>\n",
       "      <th>P126N</th>\n",
       "      <td>1.264258</td>\n",
       "      <td>1.503539</td>\n",
       "      <td>-0.810410</td>\n",
       "      <td>0.340765</td>\n",
       "      <td>2.456802</td>\n",
       "      <td>-2.468638</td>\n",
       "      <td>-2.286316</td>\n",
       "    </tr>\n",
       "    <tr>\n",
       "      <th>P126T</th>\n",
       "      <td>2.508096</td>\n",
       "      <td>0.562186</td>\n",
       "      <td>1.852101</td>\n",
       "      <td>-2.813694</td>\n",
       "      <td>0.299822</td>\n",
       "      <td>-2.813694</td>\n",
       "      <td>0.405182</td>\n",
       "    </tr>\n",
       "    <tr>\n",
       "      <th>P127N</th>\n",
       "      <td>0.110045</td>\n",
       "      <td>1.142530</td>\n",
       "      <td>-0.290966</td>\n",
       "      <td>0.368280</td>\n",
       "      <td>1.822072</td>\n",
       "      <td>-2.662544</td>\n",
       "      <td>-0.489417</td>\n",
       "    </tr>\n",
       "    <tr>\n",
       "      <th>P127T</th>\n",
       "      <td>1.853060</td>\n",
       "      <td>-1.086668</td>\n",
       "      <td>1.104586</td>\n",
       "      <td>-0.477291</td>\n",
       "      <td>-1.180194</td>\n",
       "      <td>-2.472963</td>\n",
       "      <td>2.259469</td>\n",
       "    </tr>\n",
       "    <tr>\n",
       "      <th>P128N</th>\n",
       "      <td>0.569473</td>\n",
       "      <td>0.762932</td>\n",
       "      <td>0.619580</td>\n",
       "      <td>-0.805033</td>\n",
       "      <td>2.963769</td>\n",
       "      <td>-1.919394</td>\n",
       "      <td>-2.191327</td>\n",
       "    </tr>\n",
       "    <tr>\n",
       "      <th>P128T</th>\n",
       "      <td>1.780973</td>\n",
       "      <td>2.685970</td>\n",
       "      <td>-0.048939</td>\n",
       "      <td>-2.639206</td>\n",
       "      <td>0.672958</td>\n",
       "      <td>-3.737818</td>\n",
       "      <td>1.286062</td>\n",
       "    </tr>\n",
       "    <tr>\n",
       "      <th>P130N</th>\n",
       "      <td>2.075218</td>\n",
       "      <td>-0.374949</td>\n",
       "      <td>0.127508</td>\n",
       "      <td>0.114823</td>\n",
       "      <td>2.573138</td>\n",
       "      <td>-2.166708</td>\n",
       "      <td>-2.349030</td>\n",
       "    </tr>\n",
       "    <tr>\n",
       "      <th>P130T</th>\n",
       "      <td>1.705541</td>\n",
       "      <td>0.003977</td>\n",
       "      <td>1.383254</td>\n",
       "      <td>-2.393919</td>\n",
       "      <td>0.881774</td>\n",
       "      <td>-2.761643</td>\n",
       "      <td>1.181017</td>\n",
       "    </tr>\n",
       "  </tbody>\n",
       "</table>\n",
       "</div>"
      ],
      "text/plain": [
       "annotated_type     Tcell     Bcell   Myeloid  Endothelial  Fibroblast  \\\n",
       "sample                                                                  \n",
       "P126N           1.264258  1.503539 -0.810410     0.340765    2.456802   \n",
       "P126T           2.508096  0.562186  1.852101    -2.813694    0.299822   \n",
       "P127N           0.110045  1.142530 -0.290966     0.368280    1.822072   \n",
       "P127T           1.853060 -1.086668  1.104586    -0.477291   -1.180194   \n",
       "P128N           0.569473  0.762932  0.619580    -0.805033    2.963769   \n",
       "P128T           1.780973  2.685970 -0.048939    -2.639206    0.672958   \n",
       "P130N           2.075218 -0.374949  0.127508     0.114823    2.573138   \n",
       "P130T           1.705541  0.003977  1.383254    -2.393919    0.881774   \n",
       "\n",
       "annotated_type  Pericytes  Epithelial  \n",
       "sample                                 \n",
       "P126N           -2.468638   -2.286316  \n",
       "P126T           -2.813694    0.405182  \n",
       "P127N           -2.662544   -0.489417  \n",
       "P127T           -2.472963    2.259469  \n",
       "P128N           -1.919394   -2.191327  \n",
       "P128T           -3.737818    1.286062  \n",
       "P130N           -2.166708   -2.349030  \n",
       "P130T           -2.761643    1.181017  "
      ]
     },
     "execution_count": 9,
     "metadata": {},
     "output_type": "execute_result"
    }
   ],
   "source": [
    "pos_propotion"
   ]
  },
  {
   "cell_type": "code",
   "execution_count": 10,
   "id": "a5f870a1",
   "metadata": {},
   "outputs": [
    {
     "data": {
      "text/html": [
       "<div>\n",
       "<style scoped>\n",
       "    .dataframe tbody tr th:only-of-type {\n",
       "        vertical-align: middle;\n",
       "    }\n",
       "\n",
       "    .dataframe tbody tr th {\n",
       "        vertical-align: top;\n",
       "    }\n",
       "\n",
       "    .dataframe thead th {\n",
       "        text-align: right;\n",
       "    }\n",
       "</style>\n",
       "<table border=\"1\" class=\"dataframe\">\n",
       "  <thead>\n",
       "    <tr style=\"text-align: right;\">\n",
       "      <th>annotated_type</th>\n",
       "      <th>Tcell</th>\n",
       "      <th>Bcell</th>\n",
       "      <th>Myeloid</th>\n",
       "      <th>Endothelial</th>\n",
       "      <th>Fibroblast</th>\n",
       "      <th>Pericytes</th>\n",
       "      <th>Epithelial</th>\n",
       "    </tr>\n",
       "  </thead>\n",
       "  <tbody>\n",
       "    <tr>\n",
       "      <th>GSE160296_P126</th>\n",
       "      <td>-1.243838</td>\n",
       "      <td>0.941353</td>\n",
       "      <td>-2.662511</td>\n",
       "      <td>3.154458</td>\n",
       "      <td>2.156981</td>\n",
       "      <td>0.345056</td>\n",
       "      <td>-2.691499</td>\n",
       "    </tr>\n",
       "    <tr>\n",
       "      <th>GSE160296_P127</th>\n",
       "      <td>-1.743016</td>\n",
       "      <td>2.229198</td>\n",
       "      <td>-1.395552</td>\n",
       "      <td>0.845571</td>\n",
       "      <td>3.002266</td>\n",
       "      <td>-0.189581</td>\n",
       "      <td>-2.748886</td>\n",
       "    </tr>\n",
       "    <tr>\n",
       "      <th>GSE160296_P128</th>\n",
       "      <td>-1.211499</td>\n",
       "      <td>-1.923038</td>\n",
       "      <td>0.668519</td>\n",
       "      <td>1.834173</td>\n",
       "      <td>2.290811</td>\n",
       "      <td>1.818424</td>\n",
       "      <td>-3.477390</td>\n",
       "    </tr>\n",
       "    <tr>\n",
       "      <th>GSE160296_P130</th>\n",
       "      <td>0.369676</td>\n",
       "      <td>-0.378926</td>\n",
       "      <td>-1.255745</td>\n",
       "      <td>2.508742</td>\n",
       "      <td>1.691365</td>\n",
       "      <td>0.594935</td>\n",
       "      <td>-3.530047</td>\n",
       "    </tr>\n",
       "  </tbody>\n",
       "</table>\n",
       "</div>"
      ],
      "text/plain": [
       "annotated_type     Tcell     Bcell   Myeloid  Endothelial  Fibroblast  \\\n",
       "GSE160296_P126 -1.243838  0.941353 -2.662511     3.154458    2.156981   \n",
       "GSE160296_P127 -1.743016  2.229198 -1.395552     0.845571    3.002266   \n",
       "GSE160296_P128 -1.211499 -1.923038  0.668519     1.834173    2.290811   \n",
       "GSE160296_P130  0.369676 -0.378926 -1.255745     2.508742    1.691365   \n",
       "\n",
       "annotated_type  Pericytes  Epithelial  \n",
       "GSE160296_P126   0.345056   -2.691499  \n",
       "GSE160296_P127  -0.189581   -2.748886  \n",
       "GSE160296_P128   1.818424   -3.477390  \n",
       "GSE160296_P130   0.594935   -3.530047  "
      ]
     },
     "execution_count": 10,
     "metadata": {},
     "output_type": "execute_result"
    }
   ],
   "source": [
    "P126 = pos_propotion.loc['P126N'] - pos_propotion.loc['P126T']\n",
    "P127 = pos_propotion.loc['P127N'] - pos_propotion.loc['P127T']\n",
    "P128 = pos_propotion.loc['P128N'] - pos_propotion.loc['P128T']\n",
    "P130 = pos_propotion.loc['P130N'] - pos_propotion.loc['P130T']\n",
    "NC_changed =  pd.concat([P126,P127,P128,P130],axis=1).T\n",
    "NC_changed.index = ['GSE160296_P126','GSE160296_P127','GSE160296_P128','GSE160296_P130']\n",
    "NC_changed"
   ]
  },
  {
   "cell_type": "code",
   "execution_count": 11,
   "id": "bab3b926",
   "metadata": {},
   "outputs": [
    {
     "data": {
      "text/html": [
       "<div>\n",
       "<style scoped>\n",
       "    .dataframe tbody tr th:only-of-type {\n",
       "        vertical-align: middle;\n",
       "    }\n",
       "\n",
       "    .dataframe tbody tr th {\n",
       "        vertical-align: top;\n",
       "    }\n",
       "\n",
       "    .dataframe thead th {\n",
       "        text-align: right;\n",
       "    }\n",
       "</style>\n",
       "<table border=\"1\" class=\"dataframe\">\n",
       "  <thead>\n",
       "    <tr style=\"text-align: right;\">\n",
       "      <th></th>\n",
       "      <th>T cells</th>\n",
       "      <th>B cells</th>\n",
       "      <th>Myeloid cells</th>\n",
       "      <th>Endothelial cells</th>\n",
       "      <th>Fibroblasts</th>\n",
       "      <th>Pericytes</th>\n",
       "      <th>Epithelial cells</th>\n",
       "    </tr>\n",
       "    <tr>\n",
       "      <th>treat_sample</th>\n",
       "      <th></th>\n",
       "      <th></th>\n",
       "      <th></th>\n",
       "      <th></th>\n",
       "      <th></th>\n",
       "      <th></th>\n",
       "      <th></th>\n",
       "    </tr>\n",
       "  </thead>\n",
       "  <tbody>\n",
       "    <tr>\n",
       "      <th>Pre_A</th>\n",
       "      <td>1.550014</td>\n",
       "      <td>0.924340</td>\n",
       "      <td>-0.225710</td>\n",
       "      <td>0.096091</td>\n",
       "      <td>-0.515563</td>\n",
       "      <td>-0.903787</td>\n",
       "      <td>-0.925386</td>\n",
       "    </tr>\n",
       "    <tr>\n",
       "      <th>Post_A</th>\n",
       "      <td>1.056319</td>\n",
       "      <td>-0.910293</td>\n",
       "      <td>1.111441</td>\n",
       "      <td>-0.705383</td>\n",
       "      <td>1.191102</td>\n",
       "      <td>-1.972203</td>\n",
       "      <td>0.229017</td>\n",
       "    </tr>\n",
       "    <tr>\n",
       "      <th>Pre_D</th>\n",
       "      <td>0.749512</td>\n",
       "      <td>-0.901814</td>\n",
       "      <td>-0.663234</td>\n",
       "      <td>0.806967</td>\n",
       "      <td>-1.738062</td>\n",
       "      <td>1.868864</td>\n",
       "      <td>-0.122234</td>\n",
       "    </tr>\n",
       "    <tr>\n",
       "      <th>Post_D</th>\n",
       "      <td>0.649679</td>\n",
       "      <td>-0.780723</td>\n",
       "      <td>-0.273067</td>\n",
       "      <td>0.401819</td>\n",
       "      <td>-1.098386</td>\n",
       "      <td>-1.007036</td>\n",
       "      <td>2.107713</td>\n",
       "    </tr>\n",
       "    <tr>\n",
       "      <th>Pre_I</th>\n",
       "      <td>1.219671</td>\n",
       "      <td>-0.787200</td>\n",
       "      <td>-0.412194</td>\n",
       "      <td>-0.817659</td>\n",
       "      <td>-0.728931</td>\n",
       "      <td>-0.326615</td>\n",
       "      <td>1.852928</td>\n",
       "    </tr>\n",
       "    <tr>\n",
       "      <th>Post_I</th>\n",
       "      <td>0.922306</td>\n",
       "      <td>-0.388765</td>\n",
       "      <td>0.030136</td>\n",
       "      <td>-0.779127</td>\n",
       "      <td>1.012632</td>\n",
       "      <td>-1.025559</td>\n",
       "      <td>0.228377</td>\n",
       "    </tr>\n",
       "    <tr>\n",
       "      <th>Pre_R</th>\n",
       "      <td>2.070781</td>\n",
       "      <td>0.418738</td>\n",
       "      <td>0.881644</td>\n",
       "      <td>0.746937</td>\n",
       "      <td>-3.919641</td>\n",
       "      <td>-0.160381</td>\n",
       "      <td>-0.038078</td>\n",
       "    </tr>\n",
       "    <tr>\n",
       "      <th>Post_R</th>\n",
       "      <td>3.390527</td>\n",
       "      <td>2.317595</td>\n",
       "      <td>1.702378</td>\n",
       "      <td>0.293926</td>\n",
       "      <td>0.727300</td>\n",
       "      <td>-0.814165</td>\n",
       "      <td>-7.617561</td>\n",
       "    </tr>\n",
       "    <tr>\n",
       "      <th>Pre_B</th>\n",
       "      <td>1.651315</td>\n",
       "      <td>-0.516705</td>\n",
       "      <td>-0.052744</td>\n",
       "      <td>0.563670</td>\n",
       "      <td>-0.421943</td>\n",
       "      <td>-1.209852</td>\n",
       "      <td>-0.013742</td>\n",
       "    </tr>\n",
       "    <tr>\n",
       "      <th>Post_B</th>\n",
       "      <td>1.536366</td>\n",
       "      <td>-0.069027</td>\n",
       "      <td>0.621365</td>\n",
       "      <td>0.445828</td>\n",
       "      <td>1.285105</td>\n",
       "      <td>-1.138704</td>\n",
       "      <td>-2.680933</td>\n",
       "    </tr>\n",
       "    <tr>\n",
       "      <th>Pre_C</th>\n",
       "      <td>1.757492</td>\n",
       "      <td>0.305134</td>\n",
       "      <td>-0.481670</td>\n",
       "      <td>0.220528</td>\n",
       "      <td>-1.048585</td>\n",
       "      <td>-0.677906</td>\n",
       "      <td>-0.074993</td>\n",
       "    </tr>\n",
       "    <tr>\n",
       "      <th>Post_C</th>\n",
       "      <td>2.053327</td>\n",
       "      <td>1.184211</td>\n",
       "      <td>-0.250271</td>\n",
       "      <td>-0.365525</td>\n",
       "      <td>1.402760</td>\n",
       "      <td>-1.707368</td>\n",
       "      <td>-2.317133</td>\n",
       "    </tr>\n",
       "    <tr>\n",
       "      <th>Pre_N</th>\n",
       "      <td>3.540259</td>\n",
       "      <td>1.482377</td>\n",
       "      <td>0.204462</td>\n",
       "      <td>0.106824</td>\n",
       "      <td>-4.655350</td>\n",
       "      <td>-0.392670</td>\n",
       "      <td>-0.285902</td>\n",
       "    </tr>\n",
       "    <tr>\n",
       "      <th>Post_N</th>\n",
       "      <td>1.917002</td>\n",
       "      <td>-0.824401</td>\n",
       "      <td>-0.328534</td>\n",
       "      <td>0.063544</td>\n",
       "      <td>0.446291</td>\n",
       "      <td>-0.068833</td>\n",
       "      <td>-1.205067</td>\n",
       "    </tr>\n",
       "  </tbody>\n",
       "</table>\n",
       "</div>"
      ],
      "text/plain": [
       "               T cells   B cells  Myeloid cells  Endothelial cells  \\\n",
       "treat_sample                                                         \n",
       "Pre_A         1.550014  0.924340      -0.225710           0.096091   \n",
       "Post_A        1.056319 -0.910293       1.111441          -0.705383   \n",
       "Pre_D         0.749512 -0.901814      -0.663234           0.806967   \n",
       "Post_D        0.649679 -0.780723      -0.273067           0.401819   \n",
       "Pre_I         1.219671 -0.787200      -0.412194          -0.817659   \n",
       "Post_I        0.922306 -0.388765       0.030136          -0.779127   \n",
       "Pre_R         2.070781  0.418738       0.881644           0.746937   \n",
       "Post_R        3.390527  2.317595       1.702378           0.293926   \n",
       "Pre_B         1.651315 -0.516705      -0.052744           0.563670   \n",
       "Post_B        1.536366 -0.069027       0.621365           0.445828   \n",
       "Pre_C         1.757492  0.305134      -0.481670           0.220528   \n",
       "Post_C        2.053327  1.184211      -0.250271          -0.365525   \n",
       "Pre_N         3.540259  1.482377       0.204462           0.106824   \n",
       "Post_N        1.917002 -0.824401      -0.328534           0.063544   \n",
       "\n",
       "              Fibroblasts  Pericytes  Epithelial cells  \n",
       "treat_sample                                            \n",
       "Pre_A           -0.515563  -0.903787         -0.925386  \n",
       "Post_A           1.191102  -1.972203          0.229017  \n",
       "Pre_D           -1.738062   1.868864         -0.122234  \n",
       "Post_D          -1.098386  -1.007036          2.107713  \n",
       "Pre_I           -0.728931  -0.326615          1.852928  \n",
       "Post_I           1.012632  -1.025559          0.228377  \n",
       "Pre_R           -3.919641  -0.160381         -0.038078  \n",
       "Post_R           0.727300  -0.814165         -7.617561  \n",
       "Pre_B           -0.421943  -1.209852         -0.013742  \n",
       "Post_B           1.285105  -1.138704         -2.680933  \n",
       "Pre_C           -1.048585  -0.677906         -0.074993  \n",
       "Post_C           1.402760  -1.707368         -2.317133  \n",
       "Pre_N           -4.655350  -0.392670         -0.285902  \n",
       "Post_N           0.446291  -0.068833         -1.205067  "
      ]
     },
     "execution_count": 11,
     "metadata": {},
     "output_type": "execute_result"
    }
   ],
   "source": [
    "our = pd.read_csv(ANTIPD1_PROPORTION_PATH,index_col=0)\n",
    "our = our.loc[:,~(our.columns == 'treat_sample.1')]\n",
    "our.loc['Post_R']['Epithelial cells'] = 0.00001\n",
    "our = pd.DataFrame(clr(our),index = our.index, columns = our.columns)\n",
    "our"
   ]
  },
  {
   "cell_type": "code",
   "execution_count": 12,
   "id": "4443d8ec",
   "metadata": {},
   "outputs": [],
   "source": [
    "A = our.loc['Post_A'] - our.loc['Pre_A']\n",
    "B = our.loc['Post_B'] - our.loc['Pre_B']\n",
    "C = our.loc['Post_C'] - our.loc['Pre_C']\n",
    "D = our.loc['Post_D'] - our.loc['Pre_D']\n",
    "I = our.loc['Post_I'] - our.loc['Pre_I']\n",
    "N = our.loc['Post_N'] - our.loc['Pre_N']\n",
    "R = our.loc['Post_R'] - our.loc['Pre_R']\n",
    "\n",
    "our_changed =  pd.concat([A,D,I,R,B,C,N],axis=1).T\n",
    "our_changed.index = ['BR_A','BR_D','BR_I','BR_R','GR_B','GR_C','GR_N']"
   ]
  },
  {
   "cell_type": "code",
   "execution_count": 13,
   "id": "356cff5b",
   "metadata": {},
   "outputs": [],
   "source": [
    "from sklearn import decomposition\n",
    "pca = decomposition.PCA(n_components=2)\n",
    "pca.fit(np.concatenate((NC_changed,our_changed)))\n",
    "X = pca.transform(np.concatenate((NC_changed,our_changed)))"
   ]
  },
  {
   "cell_type": "code",
   "execution_count": 14,
   "id": "e1a6f925",
   "metadata": {},
   "outputs": [
    {
     "data": {
      "text/plain": [
       "array([ True,  True,  True,  True, False, False, False, False, False,\n",
       "       False, False])"
      ]
     },
     "execution_count": 14,
     "metadata": {},
     "output_type": "execute_result"
    }
   ],
   "source": [
    "y = np.array(['GSE160296']*4+['NCR']*4+['CR']*3)\n",
    "y =='GSE160296'"
   ]
  },
  {
   "cell_type": "code",
   "execution_count": 15,
   "id": "3de942b3",
   "metadata": {},
   "outputs": [],
   "source": [
    "plot_2d = pd.DataFrame(X,columns=['PC1','PC2'])\n",
    "plot_2d['group'] = y\n",
    "plot_2d['sample'] = ['P126','P127','P128','P130','P001','P004','P009','P014','P002','P003','P011']"
   ]
  },
  {
   "cell_type": "code",
   "execution_count": 16,
   "id": "c913bb6f",
   "metadata": {},
   "outputs": [
    {
     "data": {
      "text/plain": [
       "<matplotlib.legend.Legend at 0x7fa58a212a90>"
      ]
     },
     "execution_count": 16,
     "metadata": {},
     "output_type": "execute_result"
    },
    {
     "data": {
      "image/png": "[encoded data removed]",
      "text/plain": [
       "<Figure size 288x216 with 1 Axes>"
      ]
     },
     "metadata": {
      "needs_background": "light"
     },
     "output_type": "display_data"
    }
   ],
   "source": [
    "fig,ax = plt.subplots(1,1,figsize=(4, 3))\n",
    "sns.scatterplot(x=\"PC1\", y=\"PC2\", hue=\"group\", data=plot_2d, style=\"sample\",ax=ax,s=120)\n",
    "ax.legend(prop={'size': 10})"
   ]
  },
  {
   "cell_type": "code",
   "execution_count": 17,
   "id": "c6927f2e",
   "metadata": {},
   "outputs": [],
   "source": [
    "prop = pd.DataFrame(np.concatenate((NC_changed,our_changed)),index= plot_2d['sample'],columns=our.columns)"
   ]
  },
  {
   "cell_type": "code",
   "execution_count": 18,
   "id": "7e7d390e",
   "metadata": {},
   "outputs": [],
   "source": [
    "cors = prop.T.corr()"
   ]
  },
  {
   "cell_type": "code",
   "execution_count": 19,
   "id": "1a5550bf",
   "metadata": {},
   "outputs": [
    {
     "data": {
      "image/png": "[encoded data removed]",
      "text/plain": [
       "<Figure size 432x288 with 2 Axes>"
      ]
     },
     "metadata": {
      "needs_background": "light"
     },
     "output_type": "display_data"
    }
   ],
   "source": [
    "ax = sns.heatmap(\n",
    "    cors, \n",
    "    square=True\n",
    ")"
   ]
  },
  {
   "cell_type": "code",
   "execution_count": 20,
   "id": "7a38730b",
   "metadata": {},
   "outputs": [],
   "source": [
    "c_NCR = cors.iloc[0:4,4:8].values.flatten().tolist()\n",
    "c_CR = cors.iloc[0:4,8:11].values.flatten().tolist()"
   ]
  },
  {
   "cell_type": "code",
   "execution_count": 21,
   "id": "e50244b5",
   "metadata": {},
   "outputs": [
    {
     "data": {
      "text/plain": [
       "Ttest_indResult(statistic=-2.7049195404099176, pvalue=0.011893178655137795)"
      ]
     },
     "execution_count": 21,
     "metadata": {},
     "output_type": "execute_result"
    }
   ],
   "source": [
    "import scipy\n",
    "scipy.stats.ttest_ind(c_NCR, c_CR)"
   ]
  },
  {
   "cell_type": "code",
   "execution_count": 22,
   "id": "a6ced6d3",
   "metadata": {},
   "outputs": [
    {
     "data": {
      "text/plain": [
       "MannwhitneyuResult(statistic=63.0, pvalue=0.13135638805779795)"
      ]
     },
     "execution_count": 22,
     "metadata": {},
     "output_type": "execute_result"
    }
   ],
   "source": [
    "scipy.stats.mannwhitneyu(c_NCR, c_CR)"
   ]
  },
  {
   "cell_type": "code",
   "execution_count": 25,
   "id": "865eca15",
   "metadata": {},
   "outputs": [],
   "source": [
    "cor_mat = pd.DataFrame([[cors.iloc[0:4,0:4].mean().mean(),cors.iloc[0:4,8:11].mean().mean(),cors.iloc[0:4,4:8].mean().mean()],\n",
    "                        [cors.iloc[8:11,0:4].mean().mean(),cors.iloc[8:11,8:11].mean().mean(),cors.iloc[8:11,4:8].mean().mean()],\n",
    "                        [cors.iloc[4:8,0:4].mean().mean(),cors.iloc[4:8,8:11].mean().mean(),cors.iloc[4:8,4:8].mean().mean()]\n",
    "                       ],index=['GSE160296','CR','NCR'],columns=['GSE160296','CR','NCR'])"
   ]
  },
  {
   "cell_type": "code",
   "execution_count": 26,
   "id": "6b445efd",
   "metadata": {
    "scrolled": true
   },
   "outputs": [
    {
     "data": {
      "image/png": "[encoded data removed]",
      "text/plain": [
       "<Figure size 432x288 with 2 Axes>"
      ]
     },
     "metadata": {
      "needs_background": "light"
     },
     "output_type": "display_data"
    }
   ],
   "source": [
    "ax = sns.heatmap(\n",
    "    cor_mat, \n",
    "    square=True,\n",
    "    annot=True,\n",
    "    cmap=\"OrRd\"\n",
    ")"
   ]
  },
  {
   "cell_type": "code",
   "execution_count": null,
   "id": "c7ff3762",
   "metadata": {},
   "outputs": [],
   "source": []
  }
 ],
 "metadata": {
  "kernelspec": {
   "display_name": "Python 3 (ipykernel)",
   "language": "python",
   "name": "python3"
  },
  "language_info": {
   "codemirror_mode": {
    "name": "ipython",
    "version": 3
   },
   "file_extension": ".py",
   "mimetype": "text/x-python",
   "name": "python",
   "nbconvert_exporter": "python",
   "pygments_lexer": "ipython3",
   "version": "3.8.8"
  }
 },
 "nbformat": 4,
 "nbformat_minor": 5
}
