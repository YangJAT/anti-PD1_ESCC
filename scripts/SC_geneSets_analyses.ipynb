{
 "cells": [
  {
   "cell_type": "code",
   "execution_count": 1,
   "id": "350460e0",
   "metadata": {
    "scrolled": true
   },
   "outputs": [
    {
     "name": "stderr",
     "output_type": "stream",
     "text": [
      "Attaching SeuratObject\n",
      "\n",
      "Attaching sp\n",
      "\n",
      "\n",
      "Attaching package: ‘crunch’\n",
      "\n",
      "\n",
      "The following object is masked from ‘package:ggplot2’:\n",
      "\n",
      "    resolution\n",
      "\n",
      "\n",
      "The following object is masked from ‘package:sp’:\n",
      "\n",
      "    dimensions\n",
      "\n",
      "\n",
      "The following objects are masked from ‘package:stats’:\n",
      "\n",
      "    filter, rstandard, setNames\n",
      "\n",
      "\n",
      "The following object is masked from ‘package:graphics’:\n",
      "\n",
      "    title\n",
      "\n",
      "\n",
      "The following object is masked from ‘package:utils’:\n",
      "\n",
      "    write.csv\n",
      "\n",
      "\n",
      "The following object is masked from ‘package:base’:\n",
      "\n",
      "    table\n",
      "\n",
      "\n"
     ]
    }
   ],
   "source": [
    "library(Seurat)\n",
    "library(ggplot2)\n",
    "library(cowplot)\n",
    "library(RColorBrewer)\n",
    "library(crunch)\n",
    "library(testSctpa)\n",
    "library(openxlsx)"
   ]
  },
  {
   "cell_type": "code",
   "execution_count": 2,
   "id": "f716a542",
   "metadata": {},
   "outputs": [],
   "source": [
    "SIGNATURES_PATH = './results//publication/Supplementary Table 3.xlsx'\n",
    "META_PATH = './results//publication/meta//allCells_meta.csv'\n",
    "TCELL_COUNT_PATH = './results//step2_subClustering//Tcell/count.rds'\n",
    "BCELL_COUNT_PATH = './results//step2_subClustering//Bcell/count.rds'"
   ]
  },
  {
   "cell_type": "code",
   "execution_count": 3,
   "id": "f15c1b88",
   "metadata": {},
   "outputs": [],
   "source": [
    "sigs = read.xlsx(SIGNATURES_PATH)"
   ]
  },
  {
   "cell_type": "code",
   "execution_count": 4,
   "id": "00846202",
   "metadata": {},
   "outputs": [],
   "source": [
    "Tex = as.character(sigs[1,4:ncol(sigs)])\n",
    "Tex = Tex[!is.na(Tex)]\n",
    "ImmuRes = as.character(sigs[2,4:ncol(sigs)])\n",
    "ImmuRes = ImmuRes[!is.na(ImmuRes)]\n",
    "progenitor = as.character(sigs[3,4:ncol(sigs)])\n",
    "progenitor = progenitor[!is.na(progenitor)]\n",
    "terminal = as.character(sigs[4,4:ncol(sigs)])\n",
    "terminal = terminal[!is.na(terminal)]"
   ]
  },
  {
   "cell_type": "code",
   "execution_count": 5,
   "id": "58c75259",
   "metadata": {},
   "outputs": [],
   "source": [
    "gsets = vector(mode='list')\n",
    "gsets[['T cell exxhaustion']] = Tex\n",
    "gsets[['T cell mediated immune response to tumor cell']] = ImmuRes\n",
    "gsets[['Progenitor Exhausted CD8']] = progenitor\n",
    "gsets[['Terminally Exhausted CD8']] = terminal\n",
    "gsets[['tumorReactTIL']]=c('ENTPD1','CXCL13','HLA-DRA')"
   ]
  },
  {
   "cell_type": "markdown",
   "id": "f144a8fb",
   "metadata": {},
   "source": [
    "## T cell signatures\n",
    "* calculated by Vision wrapped in [testSctpa](https://github.com/zgyaru/testSctpa)"
   ]
  },
  {
   "cell_type": "code",
   "execution_count": 6,
   "id": "cb8e987c",
   "metadata": {},
   "outputs": [],
   "source": [
    "count = readRDS(TCELL_COUNT_PATH)"
   ]
  },
  {
   "cell_type": "code",
   "execution_count": null,
   "id": "2cff21ab",
   "metadata": {},
   "outputs": [
    {
     "name": "stderr",
     "output_type": "stream",
     "text": [
      "Warning message in asMethod(object):\n",
      "“sparse->dense coercion: allocating vector of size 7.1 GiB”\n"
     ]
    }
   ],
   "source": [
    "score = calVision(count, gSets = gsets)"
   ]
  },
  {
   "cell_type": "code",
   "execution_count": null,
   "id": "acc56923",
   "metadata": {},
   "outputs": [],
   "source": [
    "meta = read.csv(META_PATH,row.names=1)\n",
    "head(meta)"
   ]
  },
  {
   "cell_type": "code",
   "execution_count": null,
   "id": "88fb14fd",
   "metadata": {},
   "outputs": [],
   "source": [
    "plot_data = data.frame(t(as.matrix(score)))\n",
    "plot_data$cellType = meta[colnames(count),'subCluster']\n",
    "plot_data$treat_group = factor(meta[colnames(count),'treat_group'],levels = c('Pre_NCR','Pre_CR','Post_NCR','Post_CR'))\n",
    "plot_data$treat = factor(meta[colnames(count),'treat'],levels = c('Pre','Post'))\n",
    "plot_data$group = factor(meta[colnames(count),'group'],levels = c('NCR','CR'))\n",
    "colnames(plot_data) = gsub('\\\\.',' ',colnames(plot_data))"
   ]
  },
  {
   "cell_type": "code",
   "execution_count": null,
   "id": "68e4375e",
   "metadata": {},
   "outputs": [],
   "source": [
    "colnames(plot_data) = c('T cell exhaustion','T cell mediated immune response to tumor cell',colnames(plot_data)[3:ncol(plot_data)])"
   ]
  },
  {
   "cell_type": "markdown",
   "id": "b2173413",
   "metadata": {},
   "source": [
    "### Figure 2B\n",
    "* T cell exhuastion\n",
    "* T cell mediated immune response to tumor cell"
   ]
  },
  {
   "cell_type": "code",
   "execution_count": null,
   "id": "f4c97976",
   "metadata": {},
   "outputs": [],
   "source": [
    "options(repr.plot.width=5, repr.plot.height=5)\n",
    "ggplot(plot_data[plot_data$cellType %in% c('CD8+ Tex-SPRY1','CD8+ Tex-XAF1','CD4+ Tex-CXCL13'),],\n",
    "       aes(x=cellType,y=`T cell exhaustion`,fill=treat))+\n",
    "  geom_boxplot(width=0.6,outlier.size = 0,outlier.stroke=0)+\n",
    "  scale_fill_manual(values=c('#80BAB9','#E9B427'))+ \n",
    "  theme(\n",
    "    panel.background = element_rect(fill = \"transparent\",colour = NA),\n",
    "    panel.grid.minor = element_blank(),\n",
    "    panel.grid.major = element_blank(),\n",
    "    axis.text = element_text(angle = 90,vjust = 1,hjust = 1),\n",
    "    axis.ticks = element_line(size = 0.3),\n",
    "    axis.line = element_line(size = 0.3),\n",
    "    plot.title = element_text(size=5,hjust = 0.5))"
   ]
  },
  {
   "cell_type": "code",
   "execution_count": null,
   "id": "b33564cd",
   "metadata": {},
   "outputs": [],
   "source": [
    "options(repr.plot.width=5, repr.plot.height=5)\n",
    "ggplot(plot_data[plot_data$cellType %in% c('CD8+ Tex-SPRY1','CD8+ Tex-XAF1','CD4+ Tex-CXCL13'),],\n",
    "       aes(x=cellType,y=`T cell mediated immune response to tumor cell`,fill=treat))+\n",
    "  geom_boxplot(width=0.6,outlier.size = 0,outlier.stroke=0)+\n",
    "  scale_fill_manual(values=c('#80BAB9','#E9B427'))+ \n",
    "  theme(\n",
    "    panel.background = element_rect(fill = \"transparent\",colour = NA),\n",
    "    panel.grid.minor = element_blank(),\n",
    "    panel.grid.major = element_blank(),\n",
    "    axis.text = element_text(angle = 90,vjust = 1,hjust = 1),\n",
    "    axis.ticks = element_line(size = 0.3),\n",
    "    axis.line = element_line(size = 0.3),\n",
    "    plot.title = element_text(size=5,hjust = 0.5))"
   ]
  },
  {
   "cell_type": "markdown",
   "id": "fe95d358",
   "metadata": {},
   "source": [
    "### Figure 2D\n"
   ]
  },
  {
   "cell_type": "code",
   "execution_count": null,
   "id": "c1729289",
   "metadata": {},
   "outputs": [],
   "source": [
    "plot_data$prog_term = plot_data$`Progenitor Exhausted CD8` / plot_data$`Terminally Exhausted CD8`"
   ]
  },
  {
   "cell_type": "code",
   "execution_count": null,
   "id": "ed834500",
   "metadata": {},
   "outputs": [],
   "source": [
    "options(repr.plot.width=5, repr.plot.height=5)\n",
    "ggplot(plot_data[plot_data$cellType %in% c('CD8+ Tex-SPRY1','CD8+ Tex-XAF1'),],\n",
    "       aes(x=cellType,y=prog_term,fill=cellType))+\n",
    "  geom_boxplot(width=0.6,outlier.size = 0,outlier.stroke=0)+\n",
    "  ggtitle('Progenitor Exhausted Signature vs. Terminally Exhausted Signature')+\n",
    "  scale_fill_manual(values=c('#F4AF63','#ED7C61'))+ \n",
    "  theme(\n",
    "    panel.background = element_rect(fill = \"transparent\",colour = NA),\n",
    "    panel.grid.minor = element_blank(),\n",
    "    panel.grid.major = element_blank(),\n",
    "    axis.text = element_text(angle = 90,vjust = 1,hjust = 1),\n",
    "    axis.ticks = element_line(size = 0.3),\n",
    "    axis.line = element_line(size = 0.3),\n",
    "    plot.title = element_text(size=5,hjust = 0.5))+ylim(0,3)"
   ]
  },
  {
   "cell_type": "markdown",
   "id": "b703c5c4",
   "metadata": {},
   "source": [
    "### Figure S2D\n",
    "Signature expression (CD39 (ENTPD1), CXCL13, HLA-DR) in all T cell clusters."
   ]
  },
  {
   "cell_type": "code",
   "execution_count": null,
   "id": "2aea5d28",
   "metadata": {},
   "outputs": [],
   "source": [
    "options(repr.plot.width=6, repr.plot.height=5)\n",
    "ggplot(plot_data[which(plot_data$cellType != 'Tprf-MKI67'),],\n",
    "       aes(x=cellType,y=tumorReactTIL,fill=cellType))+\n",
    "  geom_boxplot(outlier.size = 0)+\n",
    "  #scale_fill_manual(values=c('#80BAB9','#E9B427'))+ \n",
    "  theme(\n",
    "    panel.background = element_rect(fill = \"transparent\",colour = NA),\n",
    "    panel.grid.minor = element_blank(),\n",
    "    panel.grid.major = element_blank(),\n",
    "    axis.text = element_text(angle = 90,vjust = -1,hjust = 1),\n",
    "    axis.ticks = element_line(size = 0.3),\n",
    "    axis.line = element_line(size = 0.3),\n",
    "    plot.title = element_text(size=5,hjust = 0.5))"
   ]
  },
  {
   "cell_type": "markdown",
   "id": "0b2d1a83",
   "metadata": {},
   "source": [
    "## B cell signatures\n",
    "* calculated by Vision wrapped in [testSctpa](https://github.com/zgyaru/testSctpa)"
   ]
  },
  {
   "cell_type": "code",
   "execution_count": 56,
   "id": "56410366",
   "metadata": {},
   "outputs": [],
   "source": [
    "gsets = list(TLS = c('CCL19', 'CCL21', 'CXCL13', 'CCR7', 'SELL', 'LAMP3', 'CXCR4', 'CD86', 'BCL6'))"
   ]
  },
  {
   "cell_type": "code",
   "execution_count": 57,
   "id": "bc289eec",
   "metadata": {},
   "outputs": [],
   "source": [
    "b_count = readRDS(BCELL_COUNT_PATH)"
   ]
  },
  {
   "cell_type": "code",
   "execution_count": 62,
   "id": "8ca46956",
   "metadata": {},
   "outputs": [],
   "source": [
    "b_score = calVision(b_count, gSets = gsets)"
   ]
  },
  {
   "cell_type": "code",
   "execution_count": 65,
   "id": "9f69229e",
   "metadata": {},
   "outputs": [
    {
     "data": {
      "text/html": [
       "<table class=\"dataframe\">\n",
       "<caption>A data.frame: 6 × 5</caption>\n",
       "<thead>\n",
       "\t<tr><th></th><th scope=col>TLS</th><th scope=col>cellType</th><th scope=col>treat_group</th><th scope=col>treat</th><th scope=col>group</th></tr>\n",
       "\t<tr><th></th><th scope=col>&lt;dbl&gt;</th><th scope=col>&lt;chr&gt;</th><th scope=col>&lt;fct&gt;</th><th scope=col>&lt;fct&gt;</th><th scope=col>&lt;fct&gt;</th></tr>\n",
       "</thead>\n",
       "<tbody>\n",
       "\t<tr><th scope=row>AAACGAAAGTCAGCGA-1-Pre-A</th><td> 0.6019899</td><td>Bmem</td><td>Pre_NCR</td><td>Pre</td><td>NCR</td></tr>\n",
       "\t<tr><th scope=row>AAAGAACCAATTGCTG-1-Pre-A</th><td> 0.8563765</td><td>Bmem</td><td>Pre_NCR</td><td>Pre</td><td>NCR</td></tr>\n",
       "\t<tr><th scope=row>AAAGAACCACACCGCA-1-Pre-A</th><td> 0.5368269</td><td>Bmem</td><td>Pre_NCR</td><td>Pre</td><td>NCR</td></tr>\n",
       "\t<tr><th scope=row>AAAGGATGTAATTGGA-1-Pre-A</th><td> 0.5697201</td><td>Bmem</td><td>Pre_NCR</td><td>Pre</td><td>NCR</td></tr>\n",
       "\t<tr><th scope=row>AAAGGATGTTGGAGGT-1-Pre-A</th><td>-0.1794551</td><td>Bmem</td><td>Pre_NCR</td><td>Pre</td><td>NCR</td></tr>\n",
       "\t<tr><th scope=row>AAAGTCCTCCTAGAGT-1-Pre-A</th><td> 1.4124441</td><td>Bmem</td><td>Pre_NCR</td><td>Pre</td><td>NCR</td></tr>\n",
       "</tbody>\n",
       "</table>\n"
      ],
      "text/latex": [
       "A data.frame: 6 × 5\n",
       "\\begin{tabular}{r|lllll}\n",
       "  & TLS & cellType & treat\\_group & treat & group\\\\\n",
       "  & <dbl> & <chr> & <fct> & <fct> & <fct>\\\\\n",
       "\\hline\n",
       "\tAAACGAAAGTCAGCGA-1-Pre-A &  0.6019899 & Bmem & Pre\\_NCR & Pre & NCR\\\\\n",
       "\tAAAGAACCAATTGCTG-1-Pre-A &  0.8563765 & Bmem & Pre\\_NCR & Pre & NCR\\\\\n",
       "\tAAAGAACCACACCGCA-1-Pre-A &  0.5368269 & Bmem & Pre\\_NCR & Pre & NCR\\\\\n",
       "\tAAAGGATGTAATTGGA-1-Pre-A &  0.5697201 & Bmem & Pre\\_NCR & Pre & NCR\\\\\n",
       "\tAAAGGATGTTGGAGGT-1-Pre-A & -0.1794551 & Bmem & Pre\\_NCR & Pre & NCR\\\\\n",
       "\tAAAGTCCTCCTAGAGT-1-Pre-A &  1.4124441 & Bmem & Pre\\_NCR & Pre & NCR\\\\\n",
       "\\end{tabular}\n"
      ],
      "text/markdown": [
       "\n",
       "A data.frame: 6 × 5\n",
       "\n",
       "| <!--/--> | TLS &lt;dbl&gt; | cellType &lt;chr&gt; | treat_group &lt;fct&gt; | treat &lt;fct&gt; | group &lt;fct&gt; |\n",
       "|---|---|---|---|---|---|\n",
       "| AAACGAAAGTCAGCGA-1-Pre-A |  0.6019899 | Bmem | Pre_NCR | Pre | NCR |\n",
       "| AAAGAACCAATTGCTG-1-Pre-A |  0.8563765 | Bmem | Pre_NCR | Pre | NCR |\n",
       "| AAAGAACCACACCGCA-1-Pre-A |  0.5368269 | Bmem | Pre_NCR | Pre | NCR |\n",
       "| AAAGGATGTAATTGGA-1-Pre-A |  0.5697201 | Bmem | Pre_NCR | Pre | NCR |\n",
       "| AAAGGATGTTGGAGGT-1-Pre-A | -0.1794551 | Bmem | Pre_NCR | Pre | NCR |\n",
       "| AAAGTCCTCCTAGAGT-1-Pre-A |  1.4124441 | Bmem | Pre_NCR | Pre | NCR |\n",
       "\n"
      ],
      "text/plain": [
       "                         TLS        cellType treat_group treat group\n",
       "AAACGAAAGTCAGCGA-1-Pre-A  0.6019899 Bmem     Pre_NCR     Pre   NCR  \n",
       "AAAGAACCAATTGCTG-1-Pre-A  0.8563765 Bmem     Pre_NCR     Pre   NCR  \n",
       "AAAGAACCACACCGCA-1-Pre-A  0.5368269 Bmem     Pre_NCR     Pre   NCR  \n",
       "AAAGGATGTAATTGGA-1-Pre-A  0.5697201 Bmem     Pre_NCR     Pre   NCR  \n",
       "AAAGGATGTTGGAGGT-1-Pre-A -0.1794551 Bmem     Pre_NCR     Pre   NCR  \n",
       "AAAGTCCTCCTAGAGT-1-Pre-A  1.4124441 Bmem     Pre_NCR     Pre   NCR  "
      ]
     },
     "metadata": {},
     "output_type": "display_data"
    }
   ],
   "source": [
    "plot_data = data.frame(t(as.matrix(b_score)))\n",
    "plot_data$cellType = meta[colnames(b_count),'subCluster']\n",
    "plot_data$treat_group = factor(meta[colnames(b_count),'treat_group'],levels = c('Pre_CR','Post_CR','Pre_NCR','Post_NCR'))\n",
    "plot_data$treat = factor(meta[colnames(b_count),'treat'],levels = c('Pre','Post'))\n",
    "plot_data$group = factor(meta[colnames(b_count),'group'],levels = c('NCR','CR'))\n",
    "colnames(plot_data) = gsub('\\\\.',' ',colnames(plot_data))\n",
    "head(plot_data)"
   ]
  },
  {
   "cell_type": "markdown",
   "id": "cc812863",
   "metadata": {},
   "source": [
    "### Figure 6D"
   ]
  },
  {
   "cell_type": "code",
   "execution_count": 69,
   "id": "c7b1184a",
   "metadata": {},
   "outputs": [
    {
     "data": {
      "image/png": "[encoded data removed]",
      "text/plain": [
       "plot without title"
      ]
     },
     "metadata": {
      "image/png": {
       "height": 300,
       "width": 300
      }
     },
     "output_type": "display_data"
    }
   ],
   "source": [
    "options(repr.plot.width=5, repr.plot.height=5)\n",
    "ggplot(plot_data,\n",
    "       aes(x=treat_group,y=TLS,fill=treat_group))+\n",
    "  geom_boxplot(colour='gray30',width=0.8,outlier.size = 0.1)+\n",
    "  scale_fill_manual(values = c(\"#F0E3A4\", \"#E9B424\", \"#CCE2E3\", \"#80B9B9\"))+\n",
    "  theme(\n",
    "    panel.background = element_rect(fill = \"transparent\",colour = NA),\n",
    "    panel.grid.minor = element_blank(),\n",
    "    panel.grid.major = element_blank(),\n",
    "    axis.text = element_text(angle = 90,vjust = 1,hjust = 1),\n",
    "    axis.ticks = element_line(size = 0.3),\n",
    "    axis.line = element_line(size = 0.3),\n",
    "    plot.title = element_text(size=5,hjust = 0.5))"
   ]
  },
  {
   "cell_type": "markdown",
   "id": "2a813758",
   "metadata": {},
   "source": [
    "### Figure 6E"
   ]
  },
  {
   "cell_type": "code",
   "execution_count": 71,
   "id": "ee5fec5a",
   "metadata": {},
   "outputs": [
    {
     "data": {
      "image/png": "[encoded data removed]",
      "text/plain": [
       "plot without title"
      ]
     },
     "metadata": {
      "image/png": {
       "height": 300,
       "width": 360
      }
     },
     "output_type": "display_data"
    }
   ],
   "source": [
    "options(repr.plot.width=6, repr.plot.height=5)\n",
    "ggplot(plot_data,\n",
    "       aes(x=cellType,y=TLS,fill=cellType))+\n",
    "  geom_boxplot(colour='gray30',width=0.8,outlier.size = 0.1)+\n",
    "  theme(\n",
    "    panel.background = element_rect(fill = \"transparent\",colour = NA),\n",
    "    panel.grid.minor = element_blank(),\n",
    "    panel.grid.major = element_blank(),\n",
    "    axis.text = element_text(angle = 90,vjust = 1,hjust = 1),\n",
    "    axis.ticks = element_line(size = 0.3),\n",
    "    axis.line = element_line(size = 0.3),\n",
    "    plot.title = element_text(size=5,hjust = 0.5))"
   ]
  },
  {
   "cell_type": "code",
   "execution_count": null,
   "id": "52044688",
   "metadata": {},
   "outputs": [],
   "source": []
  }
 ],
 "metadata": {
  "kernelspec": {
   "display_name": "R",
   "language": "R",
   "name": "ir"
  },
  "language_info": {
   "codemirror_mode": "r",
   "file_extension": ".r",
   "mimetype": "text/x-r-source",
   "name": "R",
   "pygments_lexer": "r",
   "version": "4.1.1"
  }
 },
 "nbformat": 4,
 "nbformat_minor": 5
}
