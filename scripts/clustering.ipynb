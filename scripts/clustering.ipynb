{
 "cells": [
  {
   "cell_type": "code",
   "execution_count": 3,
   "id": "4252770f",
   "metadata": {},
   "outputs": [
    {
     "name": "stdout",
     "output_type": "stream",
     "text": [
      "3.8.8 (default, Apr 13 2021, 19:58:26) \n",
      "[GCC 7.3.0]\n"
     ]
    }
   ],
   "source": [
    "import sys\n",
    "print(sys.version)\n",
    "\n",
    "import pandas as pd\n",
    "import numpy as np\n",
    "import os\n",
    "import scanpy as sc\n",
    "import scvelo as scv\n",
    "import scirpy as ir\n",
    "import matplotlib.pyplot as plt\n",
    "from matplotlib import rcParams\n",
    "import scanpy.external as sce\n",
    "import seaborn as sns\n",
    "import matplotlib.ticker as mtick\n",
    "\n",
    "plt.rcParams['font.sans-serif']=['Arial']\n",
    "sc.settings.verbosity = 3  \n",
    "sc.settings.set_figure_params(dpi=120,fontsize=8, frameon=False, figsize=(3, 3), facecolor='white')\n"
   ]
  },
  {
   "cell_type": "markdown",
   "id": "91976963",
   "metadata": {},
   "source": [
    "## Pipeline\n",
    "1. preprocessing for each sample\n",
    "2. combined all samples\n",
    "3. normalization\n",
    "4. batch effect correction\n",
    "5. clustering\n",
    "6. canonical markers certification"
   ]
  },
  {
   "cell_type": "markdown",
   "id": "0ce24d19",
   "metadata": {},
   "source": [
    "### Preprocessing & normalization function"
   ]
  },
  {
   "cell_type": "code",
   "execution_count": null,
   "id": "19f1e2a2",
   "metadata": {},
   "outputs": [],
   "source": [
    "def preprocessing(adata, filter_cells, barc = '-1'):\n",
    "    sc.pp.filter_genes(adata, min_cells=0.001*len(adata.obs))\n",
    "    adata.var['mt'] = adata.var_names.str.startswith('MT-')\n",
    "    adata.var['rb'] = adata.var_names.str.contains('^RP[SL]')\n",
    "    adata.var['hb'] = adata.var_names.str.contains('^HB[APS]')\n",
    "    adata.var['hsp'] = adata.var_names.str.contains('^HSP')\n",
    "    sc.pp.calculate_qc_metrics(adata, qc_vars=['mt','rb','hb','hsp'], percent_top=None, log1p=False, inplace=True)\n",
    "    adata = adata[adata.obs.n_genes_by_counts < 8000, :]\n",
    "    adata = adata[adata.obs.n_genes_by_counts > 400, :]\n",
    "    adata = adata[adata.obs.total_counts > 500, :]\n",
    "    adata = adata[adata.obs.total_counts < 50000, :]\n",
    "    adata = adata[adata.obs.pct_counts_mt < 10, :]\n",
    "    adata = adata[adata.obs.pct_counts_hb < 5, :]\n",
    "    if len(filter_cells)>0:\n",
    "        pre_cell = len(adata.obs_names)\n",
    "        cell_names = adata.obs_names.str.replace('-1',barc)\n",
    "        adata = adata[~cell_names.isin(filter_cells)]\n",
    "        after_cell = len(adata.obs_names)\n",
    "        print(\"{0} cells filtered by double and mix\".format(pre_cell-after_cell) )\n",
    "    return adata\n",
    "\n",
    "def normalization(adata, n_top = 5000):\n",
    "    sc.pp.normalize_total(adata, target_sum=1e4)\n",
    "    sc.pp.log1p(adata)\n",
    "    sc.pp.highly_variable_genes(adata, flavor='cell_ranger', n_top_genes=n_top)\n",
    "    #adata = adata[:, adata.var.highly_variable]\n",
    "    sc.pp.regress_out(adata, ['total_counts', 'n_genes_by_counts', \n",
    "                              'pct_counts_mt', 'pct_counts_hsp'])\n",
    "    sc.tl.pca(adata, svd_solver='arpack')\n",
    "    return adata\n",
    "\n",
    "def getTypeCells(adata, meta, cell_type):\n",
    "    cells = list(set(meta[meta['leiden_name'].isin(cell_type)].index) & set(adata.obs.index))\n",
    "    res = adata[adata.obs.index.isin(cells)]\n",
    "    return res"
   ]
  },
  {
   "cell_type": "markdown",
   "id": "fb14a221",
   "metadata": {},
   "source": [
    "## All cells"
   ]
  },
  {
   "cell_type": "code",
   "execution_count": null,
   "id": "22eaf653",
   "metadata": {},
   "outputs": [],
   "source": [
    "folder = '/share2/pub/zhangyr/zhangyr/cooperation/SJTU/ESCC/cellranger_v6/'"
   ]
  },
  {
   "cell_type": "code",
   "execution_count": null,
   "id": "12988319",
   "metadata": {},
   "outputs": [],
   "source": [
    "A_pre_ori = sc.read_10x_mtx(os.path.join(folder,'A_1_0/outs/filtered_feature_bc_matrix/'),cache=True)\n",
    "A_post_ori = sc.read_10x_mtx(os.path.join(folder,'A_1_1/outs/filtered_feature_bc_matrix'),cache=True)\n",
    "B_pre_ori = sc.read_10x_mtx(os.path.join(folder,'B_1_0/outs/filtered_feature_bc_matrix'),cache=True)\n",
    "B_post_ori = sc.read_10x_mtx(os.path.join(folder,'B_1_1/outs/filtered_feature_bc_matrix'),cache=True)\n",
    "C_pre_ori = sc.read_10x_mtx(os.path.join(folder,'C_1_0/outs/filtered_feature_bc_matrix'),cache=True)\n",
    "C_post_ori = sc.read_10x_mtx(os.path.join(folder,'C_1_1/outs/filtered_feature_bc_matrix'),cache=True)\n",
    "D_pre_ori = sc.read_10x_mtx(os.path.join(folder,'D_1_0/outs/filtered_feature_bc_matrix'),cache=True)\n",
    "D_post_ori = sc.read_10x_mtx(os.path.join(folder,'D_1_1/outs/filtered_feature_bc_matrix'),cache=True)\n",
    "I_pre_ori = sc.read_10x_mtx(os.path.join(folder,'I_1_0/outs/filtered_feature_bc_matrix'),cache=True)\n",
    "I_post_ori = sc.read_10x_mtx(os.path.join(folder,'I_1_1/outs/filtered_feature_bc_matrix'),cache=True)\n",
    "R_pre_ori = sc.read_10x_mtx(os.path.join(folder,'R_1_0/outs/filtered_feature_bc_matrix'),cache=True)\n",
    "R_post_ori = sc.read_10x_mtx(os.path.join(folder,'R_1_1/outs/filtered_feature_bc_matrix'),cache=True)\n",
    "N_pre_ori = sc.read_10x_mtx(os.path.join(folder,'N_1_0/outs/filtered_feature_bc_matrix'),cache=True)\n",
    "N_post_ori = sc.read_10x_mtx(os.path.join(folder,'N_1_1/outs/filtered_feature_bc_matrix'),cache=True)"
   ]
  },
  {
   "cell_type": "code",
   "execution_count": null,
   "id": "3e99c490",
   "metadata": {},
   "outputs": [],
   "source": [
    "A_pre = preprocessing(A_pre_ori,list(doublet.iloc[:,0])+list(mix['Barcode']), '-1')\n",
    "A_post = preprocessing(A_post_ori,list(doublet.iloc[:,0])+list(mix['Barcode']), '-2')\n",
    "B_pre = preprocessing(B_pre_ori,list(doublet.iloc[:,0])+list(mix['Barcode']), '-3')\n",
    "B_post = preprocessing(B_post_ori,list(doublet.iloc[:,0])+list(mix['Barcode']), '-4')\n",
    "C_pre = preprocessing(C_pre_ori,list(doublet.iloc[:,0])+list(mix['Barcode']), '-5')\n",
    "C_post = preprocessing(C_post_ori,list(doublet.iloc[:,0])+list(mix['Barcode']), '-6')\n",
    "D_pre = preprocessing(D_pre_ori,list(doublet.iloc[:,0])+list(mix['Barcode']), '-7')\n",
    "D_post = preprocessing(D_post_ori,list(doublet.iloc[:,0])+list(mix['Barcode']), '-8')\n",
    "I_pre = preprocessing(I_pre_ori,list(doublet.iloc[:,0])+list(mix['Barcode']), '-9')\n",
    "I_post = preprocessing(I_post_ori,list(doublet.iloc[:,0])+list(mix['Barcode']), '-10')\n",
    "R_pre = preprocessing(R_pre_ori,list(doublet.iloc[:,0])+list(mix['Barcode']), '-11')\n",
    "R_post = preprocessing(R_post_ori,list(doublet.iloc[:,0])+list(mix['Barcode']), '-12')\n",
    "N_pre = preprocessing(N_pre_ori,list(doublet.iloc[:,0])+list(mix['Barcode']), '-13')\n",
    "N_post = preprocessing(N_post_ori,list(doublet.iloc[:,0])+list(mix['Barcode']), '-14')"
   ]
  },
  {
   "cell_type": "code",
   "execution_count": null,
   "id": "2bb26959",
   "metadata": {},
   "outputs": [],
   "source": [
    "A_con = A_pre.concatenate(A_post, batch_categories=['Pre', 'Post'],batch_key = 'treat')\n",
    "B_con = B_pre.concatenate(B_post, batch_categories=['Pre', 'Post'],batch_key = 'treat')\n",
    "C_con = C_pre.concatenate(C_post, batch_categories=['Pre', 'Post'],batch_key = 'treat')\n",
    "D_con = D_pre.concatenate(D_post, batch_categories=['Pre', 'Post'],batch_key = 'treat')\n",
    "I_con = I_pre.concatenate(I_post, batch_categories=['Pre', 'Post'],batch_key = 'treat')\n",
    "R_con = R_pre.concatenate(R_post, batch_categories=['Pre', 'Post'],batch_key = 'treat')\n",
    "N_con = N_pre.concatenate(N_post, batch_categories=['Pre', 'Post'],batch_key = 'treat')"
   ]
  },
  {
   "cell_type": "code",
   "execution_count": null,
   "id": "858e6ffc",
   "metadata": {},
   "outputs": [],
   "source": [
    "adata_con = A_con.concatenate([B_con,C_con, D_con, I_con, R_con, N_con], \n",
    "                              batch_categories=['A', 'B','C','D','I','R','N'],\n",
    "                              batch_key = 'patient')\n",
    "adata_con.obs['treat_patient'] = adata_con.obs['treat'].str.cat(adata_con.obs['patient'],sep='_')"
   ]
  },
  {
   "cell_type": "code",
   "execution_count": null,
   "id": "e7df8b9c",
   "metadata": {},
   "outputs": [],
   "source": [
    "adata_con = normalization(adata_con,5000)\n",
    "sc.external.pp.bbknn(adata_con, batch_key='treat_patient',neighbors_within_batch=3)\n",
    "sc.tl.umap(adata_con)\n",
    "sc.tl.leiden(adata_con,resolution=0.3)\n",
    "sc.pl.umap(adata_con, color=['patient', 'treat', 'leiden'])"
   ]
  },
  {
   "cell_type": "code",
   "execution_count": null,
   "id": "cc4e49c6",
   "metadata": {},
   "outputs": [],
   "source": [
    "immu_markers = [\"CD3D\",\"CD2\",\"CD3E\",\"CD3G\",   ## T cell\n",
    "                \"CD79A\",'MS4A1',\"CD79B\",\"JCHAIN\",  ## B cell\n",
    "                \"DCN\",\"COL1A1\",\"COL1A2\",\"FN1\",  ## fibroblast\n",
    "                \"CCL14\",\"VWF\",\"PECAM1\",\"ENG\",    ## endothelial cell\n",
    "                \"RGS5\",\"MCAM\",\"ACTA2\",\"MYH11\",    ## pericyte\n",
    "                \"LYZ\",\"CD14\",\"GCA\",\"HPGDS\",  ## myeloid cell\n",
    "                'KRT5','SFN','KRT14','EPCAM'  ## epithelial cell\n",
    "               ]  \n",
    "sc.pl.umap(adata_con, color=immu_markers)"
   ]
  },
  {
   "cell_type": "markdown",
   "id": "08fc9353",
   "metadata": {},
   "source": [
    "## T cells"
   ]
  },
  {
   "cell_type": "code",
   "execution_count": null,
   "id": "af339bb1",
   "metadata": {},
   "outputs": [],
   "source": [
    "celltype = ['T cells']\n",
    "A_pre_ori = getTypeCells(A_pre_ori, meta_data, celltype)\n",
    "A_post_ori = getTypeCells(A_post_ori, meta_data, celltype)\n",
    "B_pre_ori = getTypeCells(B_pre_ori, meta_data, celltype)\n",
    "B_post_ori = getTypeCells(B_post_ori, meta_data, celltype)\n",
    "C_pre_ori = getTypeCells(C_pre_ori, meta_data, celltype)\n",
    "C_post_ori = getTypeCells(C_post_ori, meta_data, celltype)\n",
    "D_pre_ori = getTypeCells(D_pre_ori, meta_data, celltype)\n",
    "D_post_ori = getTypeCells(D_post_ori, meta_data, celltype)\n",
    "I_pre_ori = getTypeCells(I_pre_ori, meta_data, celltype)\n",
    "I_post_ori = getTypeCells(I_post_ori, meta_data, celltype)\n",
    "R_pre_ori = getTypeCells(R_pre_ori, meta_data, celltype)\n",
    "R_post_ori = getTypeCells(R_post_ori, meta_data, celltype)\n",
    "N_pre_ori = getTypeCells(N_pre_ori, meta_data, celltype)\n",
    "N_post_ori = getTypeCells(N_post_ori, meta_data, celltype)"
   ]
  },
  {
   "cell_type": "code",
   "execution_count": null,
   "id": "193e163a",
   "metadata": {},
   "outputs": [],
   "source": [
    "A_pre = preprocessing(A_pre_ori,[])\n",
    "A_post = preprocessing(A_post_ori,[])\n",
    "B_pre = preprocessing(B_pre_ori,[])\n",
    "B_post = preprocessing(B_post_ori,[])\n",
    "C_pre = preprocessing(C_pre_ori,[])\n",
    "C_post = preprocessing(C_post_ori,[])\n",
    "D_pre = preprocessing(D_pre_ori,[])\n",
    "D_post = preprocessing(D_post_ori,[])\n",
    "I_pre = preprocessing(I_pre_ori,[])\n",
    "I_post = preprocessing(I_post_ori,[])\n",
    "R_pre = preprocessing(R_pre_ori,[])\n",
    "R_post = preprocessing(R_post_ori,[])\n",
    "N_pre = preprocessing(N_pre_ori,[])\n",
    "N_post = preprocessing(N_post_ori,[])"
   ]
  },
  {
   "cell_type": "code",
   "execution_count": null,
   "id": "4e503b18",
   "metadata": {},
   "outputs": [],
   "source": [
    "A_con = A_pre.concatenate(A_post, batch_categories=['Pre', 'Post'],batch_key = 'treat')\n",
    "B_con = B_pre.concatenate(B_post, batch_categories=['Pre', 'Post'],batch_key = 'treat')\n",
    "C_con = C_pre.concatenate(C_post, batch_categories=['Pre', 'Post'],batch_key = 'treat')\n",
    "D_con = D_pre.concatenate(D_post, batch_categories=['Pre', 'Post'],batch_key = 'treat')\n",
    "I_con = I_pre.concatenate(I_post, batch_categories=['Pre', 'Post'],batch_key = 'treat')\n",
    "R_con = R_pre.concatenate(R_post, batch_categories=['Pre', 'Post'],batch_key = 'treat')\n",
    "N_con = N_pre.concatenate(N_post, batch_categories=['Pre', 'Post'],batch_key = 'treat')\n",
    "\n",
    "adata_con = A_con.concatenate([B_con,C_con, D_con, I_con, R_con, N_con], \n",
    "                              batch_categories=['A', 'B','C','D','I','R','N'],\n",
    "                              batch_key = 'sample')\n",
    "adata_con.obs['treat_sample'] = adata_con.obs['treat'].str.cat(adata_con.obs['sample'],sep='_')"
   ]
  },
  {
   "cell_type": "code",
   "execution_count": null,
   "id": "2f5f5de4",
   "metadata": {},
   "outputs": [],
   "source": [
    "adata_con = normalization(adata_con, n_top = 5000)\n",
    "sc.external.pp.bbknn(adata_con, batch_key='treat_sample',neighbors_within_batch=6)\n",
    "sc.tl.umap(adata_con)\n",
    "sc.tl.leiden(adata_con,resolution=0.9)\n",
    "sc.pl.umap(adata_con, color=['sample','treat','leiden'])"
   ]
  },
  {
   "cell_type": "code",
   "execution_count": null,
   "id": "5d17c905",
   "metadata": {},
   "outputs": [],
   "source": [
    "t_marker = ['CD8A','CD4','MKI67','NKG7',\n",
    "            'CCL4L2','GZMK', 'FGFBP2','GNLY',\n",
    "            'PDCD1','CXCL13','CXCL9','HAVCR2','CD69',\n",
    "            'TCF7','SLAMF6','ID3','ID2','IL7R','CCR5','CXCR5','GZMB']\n",
    "sc.pl.umap(adata_con, color=t_marker)"
   ]
  },
  {
   "cell_type": "markdown",
   "id": "935bfe98",
   "metadata": {},
   "source": [
    "## B cells"
   ]
  },
  {
   "cell_type": "code",
   "execution_count": null,
   "id": "3843c6b1",
   "metadata": {},
   "outputs": [],
   "source": [
    "celltype = ['B cells']\n",
    "A_pre_ori = getTypeCells(A_pre_ori, meta_data, celltype)\n",
    "A_post_ori = getTypeCells(A_post_ori, meta_data, celltype)\n",
    "B_pre_ori = getTypeCells(B_pre_ori, meta_data, celltype)\n",
    "B_post_ori = getTypeCells(B_post_ori, meta_data, celltype)\n",
    "C_pre_ori = getTypeCells(C_pre_ori, meta_data, celltype)\n",
    "C_post_ori = getTypeCells(C_post_ori, meta_data, celltype)\n",
    "D_pre_ori = getTypeCells(D_pre_ori, meta_data, celltype)\n",
    "D_post_ori = getTypeCells(D_post_ori, meta_data, celltype)\n",
    "I_pre_ori = getTypeCells(I_pre_ori, meta_data, celltype)\n",
    "I_post_ori = getTypeCells(I_post_ori, meta_data, celltype)\n",
    "R_pre_ori = getTypeCells(R_pre_ori, meta_data, celltype)\n",
    "R_post_ori = getTypeCells(R_post_ori, meta_data, celltype)\n",
    "N_pre_ori = getTypeCells(N_pre_ori, meta_data, celltype)\n",
    "N_post_ori = getTypeCells(N_post_ori, meta_data, celltype)"
   ]
  },
  {
   "cell_type": "code",
   "execution_count": null,
   "id": "090d036a",
   "metadata": {},
   "outputs": [],
   "source": [
    "A_pre = preprocessing(A_pre_ori,[])\n",
    "A_post = preprocessing(A_post_ori,[])\n",
    "B_pre = preprocessing(B_pre_ori,[])\n",
    "B_post = preprocessing(B_post_ori,[])\n",
    "C_pre = preprocessing(C_pre_ori,[])\n",
    "C_post = preprocessing(C_post_ori,[])\n",
    "D_pre = preprocessing(D_pre_ori,[])\n",
    "D_post = preprocessing(D_post_ori,[])\n",
    "I_pre = preprocessing(I_pre_ori,[])\n",
    "I_post = preprocessing(I_post_ori,[])\n",
    "R_pre = preprocessing(R_pre_ori,[])\n",
    "R_post = preprocessing(R_post_ori,[])\n",
    "N_pre = preprocessing(N_pre_ori,[])\n",
    "N_post = preprocessing(N_post_ori,[])"
   ]
  },
  {
   "cell_type": "code",
   "execution_count": null,
   "id": "652248db",
   "metadata": {},
   "outputs": [],
   "source": [
    "A_con = A_pre.concatenate(A_post, batch_categories=['Pre', 'Post'],batch_key = 'treat')\n",
    "B_con = B_pre.concatenate(B_post, batch_categories=['Pre', 'Post'],batch_key = 'treat')\n",
    "C_con = C_pre.concatenate(C_post, batch_categories=['Pre', 'Post'],batch_key = 'treat')\n",
    "D_con = D_pre.concatenate(D_post, batch_categories=['Pre', 'Post'],batch_key = 'treat')\n",
    "I_con = I_pre.concatenate(I_post, batch_categories=['Pre', 'Post'],batch_key = 'treat')\n",
    "R_con = R_pre.concatenate(R_post, batch_categories=['Pre', 'Post'],batch_key = 'treat')\n",
    "N_con = N_pre.concatenate(N_post, batch_categories=['Pre', 'Post'],batch_key = 'treat')\n",
    "\n",
    "adata_con = A_con.concatenate([B_con,C_con, D_con, I_con, R_con, N_con], \n",
    "                              batch_categories=['A', 'B','C','D','I','R','N'],\n",
    "                              batch_key = 'sample')\n",
    "adata_con.obs['treat_sample'] = adata_con.obs['treat'].str.cat(adata_con.obs['sample'],sep='_')"
   ]
  },
  {
   "cell_type": "code",
   "execution_count": null,
   "id": "e634ed87",
   "metadata": {},
   "outputs": [],
   "source": [
    "adata_con = normalization(adata_con, n_top = 3000)\n",
    "sc.external.pp.bbknn(adata_con, batch_key='treat_sample')\n",
    "sc.tl.umap(adata_con)\n",
    "sc.tl.leiden(adata_con,resolution=0.5)\n",
    "sc.pl.umap(adata_con, color=['sample', 'treat', 'leiden'])"
   ]
  },
  {
   "cell_type": "code",
   "execution_count": null,
   "id": "177dad7f",
   "metadata": {},
   "outputs": [],
   "source": [
    "markers = ['CD19','IGHG1','MZB1','XBP1','CXCR5',\n",
    "           'BACH2','IL4R','FCER2','TCL1A','IGHD',\n",
    "           'IGHM','IGHA1','TNFRSF13B','CCR7',\n",
    "           'RGS13','NEIL1','MEF2B','BCL6','MKI67','JCHAIN']\n",
    "sc.pl.umap(adata_con, color=markers,cmap='magma')"
   ]
  },
  {
   "cell_type": "markdown",
   "id": "c001429c",
   "metadata": {},
   "source": [
    "## Myeloid cells"
   ]
  },
  {
   "cell_type": "code",
   "execution_count": null,
   "id": "0e8b4232",
   "metadata": {},
   "outputs": [],
   "source": [
    "celltype = ['Myeloid cells']\n",
    "A_pre_ori = getTypeCells(A_pre_ori, meta_data, celltype)\n",
    "A_post_ori = getTypeCells(A_post_ori, meta_data, celltype)\n",
    "B_pre_ori = getTypeCells(B_pre_ori, meta_data, celltype)\n",
    "B_post_ori = getTypeCells(B_post_ori, meta_data, celltype)\n",
    "C_pre_ori = getTypeCells(C_pre_ori, meta_data, celltype)\n",
    "C_post_ori = getTypeCells(C_post_ori, meta_data, celltype)\n",
    "D_pre_ori = getTypeCells(D_pre_ori, meta_data, celltype)\n",
    "D_post_ori = getTypeCells(D_post_ori, meta_data, celltype)\n",
    "I_pre_ori = getTypeCells(I_pre_ori, meta_data, celltype)\n",
    "I_post_ori = getTypeCells(I_post_ori, meta_data, celltype)\n",
    "R_pre_ori = getTypeCells(R_pre_ori, meta_data, celltype)\n",
    "R_post_ori = getTypeCells(R_post_ori, meta_data, celltype)\n",
    "N_pre_ori = getTypeCells(N_pre_ori, meta_data, celltype)\n",
    "N_post_ori = getTypeCells(N_post_ori, meta_data, celltype)"
   ]
  },
  {
   "cell_type": "code",
   "execution_count": null,
   "id": "d879b7d1",
   "metadata": {},
   "outputs": [],
   "source": [
    "A_pre = preprocessing(A_pre_ori,[])\n",
    "A_post = preprocessing(A_post_ori,[])\n",
    "B_pre = preprocessing(B_pre_ori,[])\n",
    "B_post = preprocessing(B_post_ori,[])\n",
    "C_pre = preprocessing(C_pre_ori,[])\n",
    "C_post = preprocessing(C_post_ori,[])\n",
    "D_pre = preprocessing(D_pre_ori,[])\n",
    "D_post = preprocessing(D_post_ori,[])\n",
    "I_pre = preprocessing(I_pre_ori,[])\n",
    "I_post = preprocessing(I_post_ori,[])\n",
    "R_pre = preprocessing(R_pre_ori,[])\n",
    "R_post = preprocessing(R_post_ori,[])\n",
    "N_pre = preprocessing(N_pre_ori,[])\n",
    "N_post = preprocessing(N_post_ori,[])"
   ]
  },
  {
   "cell_type": "code",
   "execution_count": null,
   "id": "6db0980c",
   "metadata": {},
   "outputs": [],
   "source": [
    "A_con = A_pre.concatenate(A_post, batch_categories=['Pre', 'Post'],batch_key = 'treat')\n",
    "B_con = B_pre.concatenate(B_post, batch_categories=['Pre', 'Post'],batch_key = 'treat')\n",
    "C_con = C_pre.concatenate(C_post, batch_categories=['Pre', 'Post'],batch_key = 'treat')\n",
    "D_con = D_pre.concatenate(D_post, batch_categories=['Pre', 'Post'],batch_key = 'treat')\n",
    "I_con = I_pre.concatenate(I_post, batch_categories=['Pre', 'Post'],batch_key = 'treat')\n",
    "R_con = R_pre.concatenate(R_post, batch_categories=['Pre', 'Post'],batch_key = 'treat')\n",
    "N_con = N_pre.concatenate(N_post, batch_categories=['Pre', 'Post'],batch_key = 'treat')\n",
    "\n",
    "adata_con = A_con.concatenate([B_con,C_con, D_con, I_con, R_con, N_con], \n",
    "                              batch_categories=['A', 'B','C','D','I','R','N'],\n",
    "                              batch_key = 'sample')\n",
    "adata_con.obs['treat_sample'] = adata_con.obs['treat'].str.cat(adata_con.obs['sample'],sep='_')"
   ]
  },
  {
   "cell_type": "code",
   "execution_count": null,
   "id": "3bb53d68",
   "metadata": {},
   "outputs": [],
   "source": [
    "adata_con = normalization(adata_con,min_cells=3, n_top = 3000)\n",
    "sc.external.pp.bbknn(adata_con, batch_key='treat_sample')\n",
    "sc.tl.umap(adata_con)\n",
    "sc.tl.leiden(adata_con,resolution=0.5)\n",
    "sc.pl.umap(adata_con, color=['sample', 'treat', 'leiden'])"
   ]
  },
  {
   "cell_type": "code",
   "execution_count": null,
   "id": "653a5b96",
   "metadata": {},
   "outputs": [],
   "source": [
    "markers = {\n",
    "    'Neutrophils':['MGP','S100P','FCGR3B','CMTM2'],\n",
    "    'Monocytes':['VCAN','FCN1'],\n",
    "    'Macrophages':['TUBA1B','IFI27'],\n",
    "    'Mast cells':['TPSAB1','KIT'],\n",
    "    'DCs':['CD1C']\n",
    "}\n",
    "sc.tl.dendrogram(adata_con,  'leiden_name')\n",
    "sc.pl.dotplot(adata_con, markers, 'leiden_name',var_group_labels =None,\n",
    "              standard_scale ='var', \n",
    "              cmap='Reds',figsize=(6,2),\n",
    "              dendrogram=True,mean_only_expressed =False)"
   ]
  },
  {
   "cell_type": "code",
   "execution_count": null,
   "id": "db7bcea9",
   "metadata": {},
   "outputs": [],
   "source": [
    "DC = adata_con[adata_con.obs['leiden_name'].isin(['DCs']),]\n",
    "sc.tl.leiden(DC,resolution=0.3)\n",
    "sc.tl.umap(DC)\n",
    "sc.pl.umap(DC, color=['sample', 'treat','treat_sample' ,'leiden'])"
   ]
  },
  {
   "cell_type": "code",
   "execution_count": null,
   "id": "8a3cc31b",
   "metadata": {},
   "outputs": [],
   "source": [
    "dc_markers = {\n",
    "    'cDC1':['CLEC9A','SNX3','C1orf54'],\n",
    "    'cDC2':['FCN1','C1QC','C1QA','C1QB'],\n",
    "    'pDC':['IRF7','CLEC4C'],\n",
    "    'mDC':['FSCN1','LAMP3','CCR7']\n",
    "}\n",
    "sc.tl.dendrogram(DC,  'leiden')\n",
    "sc.pl.dotplot(DC, dc_markers, 'leiden',var_group_labels =None,\n",
    "              standard_scale ='var', \n",
    "              cmap='Reds',figsize=(12,3),\n",
    "              dendrogram=True)"
   ]
  },
  {
   "cell_type": "code",
   "execution_count": null,
   "id": "3ed3a6da",
   "metadata": {},
   "outputs": [],
   "source": [
    "Mono = adata_con[adata_con.obs['leiden_name'].isin(['Monocytes']),]\n",
    "sc.tl.leiden(Mono,resolution=0.3)\n",
    "sc.tl.umap(Mono)\n",
    "sc.pl.umap(Mono, color=['sample', 'treat','treat_sample' ,'leiden'])"
   ]
  },
  {
   "cell_type": "code",
   "execution_count": null,
   "id": "5258714a",
   "metadata": {},
   "outputs": [],
   "source": [
    "Macro = adata_con[adata_con.obs['leiden_name'].isin(['Macrophages']),]\n",
    "sc.tl.leiden(Macro,resolution=0.8)\n",
    "sc.tl.umap(Macro)\n",
    "sc.pl.umap(Macro, color=['sample', 'treat','treat_sample' ,'leiden'])"
   ]
  }
 ],
 "metadata": {
  "kernelspec": {
   "display_name": "Python 3 (ipykernel)",
   "language": "python",
   "name": "python3"
  },
  "language_info": {
   "codemirror_mode": {
    "name": "ipython",
    "version": 3
   },
   "file_extension": ".py",
   "mimetype": "text/x-python",
   "name": "python",
   "nbconvert_exporter": "python",
   "pygments_lexer": "ipython3",
   "version": "3.8.8"
  }
 },
 "nbformat": 4,
 "nbformat_minor": 5
}
